{
  "nbformat": 4,
  "nbformat_minor": 0,
  "metadata": {
    "kernelspec": {
      "display_name": "Python 3",
      "language": "python",
      "name": "python3"
    },
    "language_info": {
      "codemirror_mode": {
        "name": "ipython",
        "version": 3
      },
      "file_extension": ".py",
      "mimetype": "text/x-python",
      "name": "python",
      "nbconvert_exporter": "python",
      "pygments_lexer": "ipython3",
      "version": "3.6.5"
    },
    "colab": {
      "provenance": []
    }
  },
  "cells": [
    {
      "cell_type": "markdown",
      "metadata": {
        "id": "M9SbHe1m8my-"
      },
      "source": [
        "## The challenge:\n",
        "\n",
        "Your challenge now is to build an series of regression equations that predict advertising effectiveness (clicks). For this project I want you to imagine that you're working as a digital advertising strategist. You're trying to learn what it is about the advertising campaigns that you're looking at that drove clicks. \n",
        "\n",
        "You've got the outcome performance data for campaigns, as well as some info about the ads themselves. Now, it's time to build a predictive algorithm that shows us what features most drove clicks."
      ]
    },
    {
      "cell_type": "markdown",
      "metadata": {
        "id": "sa58f7l59lKx"
      },
      "source": [
        "## Background Info about the data:\n",
        "\n",
        "Shortly after the 2016 election, congress released over 2,600 Facebook ads and the actual [advertisements themselves as PDFs.](https://democrats-intelligence.house.gov/social-media-content/social-media-advertisements.htm) I wrote a python script to extract the data from the PDF and converted it into a csv. I also published a paper on the data here, which you can [check out here](http://chrisjvargo.com/wp-content/uploads/2020/09/Vargo-C.-Hopp-T.-2020.pdf), but please don't distract yourself on that right now, you have an exam to finish.\n",
        "\n",
        "Each row is an advertisement that ran. The columns correspond to the attributes of the ad: the targeting parameters, when it ran, the amount spent and so on. \n",
        "\n",
        "For this dataset, you're going to try and **predict the \"Ad Clicks\"**, that is, the amount of clicks an ad got."
      ]
    },
    {
      "cell_type": "markdown",
      "metadata": {
        "id": "-jlC3t-3_OZ-"
      },
      "source": [
        "# Imports"
      ]
    },
    {
      "cell_type": "code",
      "metadata": {
        "id": "lkDi7V8iCmgg"
      },
      "source": [
        "import numpy as np\n",
        "from numpy import array\n",
        "import pandas as pd\n",
        "import warnings\n",
        "import sklearn\n",
        "warnings.filterwarnings('ignore')\n",
        "from sklearn.model_selection import train_test_split\n",
        "from sklearn.linear_model import LassoLarsCV\n",
        "from sklearn.ensemble import RandomForestRegressor\n",
        "from sklearn.ensemble import ExtraTreesRegressor\n",
        "from sklearn.ensemble import BaggingRegressor\n",
        "from sklearn.ensemble import GradientBoostingRegressor\n",
        "from sklearn.ensemble import AdaBoostRegressor\n",
        "from sklearn.linear_model import HuberRegressor\n",
        "from sklearn.metrics import mean_squared_error\n",
        "from sklearn.metrics import r2_score\n",
        "import math"
      ],
      "execution_count": null,
      "outputs": []
    },
    {
      "cell_type": "markdown",
      "source": [
        "## Load the data\n",
        "\n",
        "Get the rusdata_utf8.csv data file from the [files in Canvas](https://canvas.colorado.edu/files/46911073/download?download_frd=1) and upload it to your Google Drive."
      ],
      "metadata": {
        "id": "_a0PdcSKgl3H"
      }
    },
    {
      "cell_type": "code",
      "metadata": {
        "id": "Wor4eJJCCmgl"
      },
      "source": [
        "# Import data\n",
        "DATA_FILE = \"drive/MyDrive/rusdata_utf8.csv\"\n",
        "data = pd.read_csv(DATA_FILE)"
      ],
      "execution_count": null,
      "outputs": []
    },
    {
      "cell_type": "code",
      "metadata": {
        "id": "cgJHQgE7Cmgn",
        "colab": {
          "base_uri": "https://localhost:8080/",
          "height": 594
        },
        "outputId": "767c9ff9-77a3-4783-ade2-62692a40426f"
      },
      "source": [
        "data.head()"
      ],
      "execution_count": null,
      "outputs": [
        {
          "output_type": "execute_result",
          "data": {
            "text/plain": [
              "  launched     e_day  days_elec_abs  days_elec_pminus  bin_before  \\\n",
              "0   2/20/17  11/8/16            104              -104           0   \n",
              "1   10/3/16  11/8/16             36                36           1   \n",
              "2   5/12/16  11/8/16            180               180           1   \n",
              "3   5/12/16  11/8/16            180               180           1   \n",
              "4   5/12/16  11/8/16            180               180           1   \n",
              "\n",
              "   days_elec_flip    medium  medium_bin  \\\n",
              "0             104  Facebook           1   \n",
              "1             -36  Facebook           1   \n",
              "2            -180  Facebook           1   \n",
              "3            -180  Facebook           1   \n",
              "4            -180  Facebook           1   \n",
              "\n",
              "                                                text  \\\n",
              "0        God Bless Dixie! The South will rise again!   \n",
              "1                                  Stop Islamophobia   \n",
              "2  Only for Chrome users! Any music via \"FaceMusi...   \n",
              "3  Only for Chrome users! Any music via \"FaceMusi...   \n",
              "4  Free online player! Just add in ur browser and...   \n",
              "\n",
              "                                            landpage  ...  \\\n",
              "0  https://www .facebook.com/South-United-1777037...  ...   \n",
              "1            https://www.facebook.com/MuslimAmerica/  ...   \n",
              "2                               https:Hmusicfb.info/  ...   \n",
              "3                               https:Hmusicfb.info/  ...   \n",
              "4                              https://musicfb.info/  ...   \n",
              "\n",
              "   Mexico.Hispanicculture  Interests:.AppleMusic  \\\n",
              "0                       0                      0   \n",
              "1                       0                      0   \n",
              "2                       0                      0   \n",
              "3                       0                      0   \n",
              "4                       0                      0   \n",
              "\n",
              "   People Who Match:.LawEnforcementLife  Interests:.Kemetism  \\\n",
              "0                                     0                    0   \n",
              "1                                     0                    0   \n",
              "2                                     0                    0   \n",
              "3                                     0                    0   \n",
              "4                                     0                    0   \n",
              "\n",
              "  Facebook access (mobile):.allmobiledevices Gender:.Female  \\\n",
              "0                                          0              0   \n",
              "1                                          0              0   \n",
              "2                                          0              0   \n",
              "3                                          0              0   \n",
              "4                                          0              0   \n",
              "\n",
              "   Interests:.AlJazeera  Age:.16-40  \\\n",
              "0                     0           0   \n",
              "1                     0           0   \n",
              "2                     0           0   \n",
              "3                     0           0   \n",
              "4                     0           0   \n",
              "\n",
              "   United States:.BaltimoreMaryland;Ferguson  on pages:.InstagramFeed  \n",
              "0                                          0                        0  \n",
              "1                                          0                        0  \n",
              "2                                          0                        0  \n",
              "3                                          0                        0  \n",
              "4                                          0                        0  \n",
              "\n",
              "[5 rows x 1448 columns]"
            ],
            "text/html": [
              "\n",
              "  <div id=\"df-fb96c39a-c23a-4787-bc1d-574778cd3090\">\n",
              "    <div class=\"colab-df-container\">\n",
              "      <div>\n",
              "<style scoped>\n",
              "    .dataframe tbody tr th:only-of-type {\n",
              "        vertical-align: middle;\n",
              "    }\n",
              "\n",
              "    .dataframe tbody tr th {\n",
              "        vertical-align: top;\n",
              "    }\n",
              "\n",
              "    .dataframe thead th {\n",
              "        text-align: right;\n",
              "    }\n",
              "</style>\n",
              "<table border=\"1\" class=\"dataframe\">\n",
              "  <thead>\n",
              "    <tr style=\"text-align: right;\">\n",
              "      <th></th>\n",
              "      <th>launched</th>\n",
              "      <th>e_day</th>\n",
              "      <th>days_elec_abs</th>\n",
              "      <th>days_elec_pminus</th>\n",
              "      <th>bin_before</th>\n",
              "      <th>days_elec_flip</th>\n",
              "      <th>medium</th>\n",
              "      <th>medium_bin</th>\n",
              "      <th>text</th>\n",
              "      <th>landpage</th>\n",
              "      <th>...</th>\n",
              "      <th>Mexico.Hispanicculture</th>\n",
              "      <th>Interests:.AppleMusic</th>\n",
              "      <th>People Who Match:.LawEnforcementLife</th>\n",
              "      <th>Interests:.Kemetism</th>\n",
              "      <th>Facebook access (mobile):.allmobiledevices</th>\n",
              "      <th>Gender:.Female</th>\n",
              "      <th>Interests:.AlJazeera</th>\n",
              "      <th>Age:.16-40</th>\n",
              "      <th>United States:.BaltimoreMaryland;Ferguson</th>\n",
              "      <th>on pages:.InstagramFeed</th>\n",
              "    </tr>\n",
              "  </thead>\n",
              "  <tbody>\n",
              "    <tr>\n",
              "      <th>0</th>\n",
              "      <td>2/20/17</td>\n",
              "      <td>11/8/16</td>\n",
              "      <td>104</td>\n",
              "      <td>-104</td>\n",
              "      <td>0</td>\n",
              "      <td>104</td>\n",
              "      <td>Facebook</td>\n",
              "      <td>1</td>\n",
              "      <td>God Bless Dixie! The South will rise again!</td>\n",
              "      <td>https://www .facebook.com/South-United-1777037...</td>\n",
              "      <td>...</td>\n",
              "      <td>0</td>\n",
              "      <td>0</td>\n",
              "      <td>0</td>\n",
              "      <td>0</td>\n",
              "      <td>0</td>\n",
              "      <td>0</td>\n",
              "      <td>0</td>\n",
              "      <td>0</td>\n",
              "      <td>0</td>\n",
              "      <td>0</td>\n",
              "    </tr>\n",
              "    <tr>\n",
              "      <th>1</th>\n",
              "      <td>10/3/16</td>\n",
              "      <td>11/8/16</td>\n",
              "      <td>36</td>\n",
              "      <td>36</td>\n",
              "      <td>1</td>\n",
              "      <td>-36</td>\n",
              "      <td>Facebook</td>\n",
              "      <td>1</td>\n",
              "      <td>Stop Islamophobia</td>\n",
              "      <td>https://www.facebook.com/MuslimAmerica/</td>\n",
              "      <td>...</td>\n",
              "      <td>0</td>\n",
              "      <td>0</td>\n",
              "      <td>0</td>\n",
              "      <td>0</td>\n",
              "      <td>0</td>\n",
              "      <td>0</td>\n",
              "      <td>0</td>\n",
              "      <td>0</td>\n",
              "      <td>0</td>\n",
              "      <td>0</td>\n",
              "    </tr>\n",
              "    <tr>\n",
              "      <th>2</th>\n",
              "      <td>5/12/16</td>\n",
              "      <td>11/8/16</td>\n",
              "      <td>180</td>\n",
              "      <td>180</td>\n",
              "      <td>1</td>\n",
              "      <td>-180</td>\n",
              "      <td>Facebook</td>\n",
              "      <td>1</td>\n",
              "      <td>Only for Chrome users! Any music via \"FaceMusi...</td>\n",
              "      <td>https:Hmusicfb.info/</td>\n",
              "      <td>...</td>\n",
              "      <td>0</td>\n",
              "      <td>0</td>\n",
              "      <td>0</td>\n",
              "      <td>0</td>\n",
              "      <td>0</td>\n",
              "      <td>0</td>\n",
              "      <td>0</td>\n",
              "      <td>0</td>\n",
              "      <td>0</td>\n",
              "      <td>0</td>\n",
              "    </tr>\n",
              "    <tr>\n",
              "      <th>3</th>\n",
              "      <td>5/12/16</td>\n",
              "      <td>11/8/16</td>\n",
              "      <td>180</td>\n",
              "      <td>180</td>\n",
              "      <td>1</td>\n",
              "      <td>-180</td>\n",
              "      <td>Facebook</td>\n",
              "      <td>1</td>\n",
              "      <td>Only for Chrome users! Any music via \"FaceMusi...</td>\n",
              "      <td>https:Hmusicfb.info/</td>\n",
              "      <td>...</td>\n",
              "      <td>0</td>\n",
              "      <td>0</td>\n",
              "      <td>0</td>\n",
              "      <td>0</td>\n",
              "      <td>0</td>\n",
              "      <td>0</td>\n",
              "      <td>0</td>\n",
              "      <td>0</td>\n",
              "      <td>0</td>\n",
              "      <td>0</td>\n",
              "    </tr>\n",
              "    <tr>\n",
              "      <th>4</th>\n",
              "      <td>5/12/16</td>\n",
              "      <td>11/8/16</td>\n",
              "      <td>180</td>\n",
              "      <td>180</td>\n",
              "      <td>1</td>\n",
              "      <td>-180</td>\n",
              "      <td>Facebook</td>\n",
              "      <td>1</td>\n",
              "      <td>Free online player! Just add in ur browser and...</td>\n",
              "      <td>https://musicfb.info/</td>\n",
              "      <td>...</td>\n",
              "      <td>0</td>\n",
              "      <td>0</td>\n",
              "      <td>0</td>\n",
              "      <td>0</td>\n",
              "      <td>0</td>\n",
              "      <td>0</td>\n",
              "      <td>0</td>\n",
              "      <td>0</td>\n",
              "      <td>0</td>\n",
              "      <td>0</td>\n",
              "    </tr>\n",
              "  </tbody>\n",
              "</table>\n",
              "<p>5 rows × 1448 columns</p>\n",
              "</div>\n",
              "      <button class=\"colab-df-convert\" onclick=\"convertToInteractive('df-fb96c39a-c23a-4787-bc1d-574778cd3090')\"\n",
              "              title=\"Convert this dataframe to an interactive table.\"\n",
              "              style=\"display:none;\">\n",
              "        \n",
              "  <svg xmlns=\"http://www.w3.org/2000/svg\" height=\"24px\"viewBox=\"0 0 24 24\"\n",
              "       width=\"24px\">\n",
              "    <path d=\"M0 0h24v24H0V0z\" fill=\"none\"/>\n",
              "    <path d=\"M18.56 5.44l.94 2.06.94-2.06 2.06-.94-2.06-.94-.94-2.06-.94 2.06-2.06.94zm-11 1L8.5 8.5l.94-2.06 2.06-.94-2.06-.94L8.5 2.5l-.94 2.06-2.06.94zm10 10l.94 2.06.94-2.06 2.06-.94-2.06-.94-.94-2.06-.94 2.06-2.06.94z\"/><path d=\"M17.41 7.96l-1.37-1.37c-.4-.4-.92-.59-1.43-.59-.52 0-1.04.2-1.43.59L10.3 9.45l-7.72 7.72c-.78.78-.78 2.05 0 2.83L4 21.41c.39.39.9.59 1.41.59.51 0 1.02-.2 1.41-.59l7.78-7.78 2.81-2.81c.8-.78.8-2.07 0-2.86zM5.41 20L4 18.59l7.72-7.72 1.47 1.35L5.41 20z\"/>\n",
              "  </svg>\n",
              "      </button>\n",
              "      \n",
              "  <style>\n",
              "    .colab-df-container {\n",
              "      display:flex;\n",
              "      flex-wrap:wrap;\n",
              "      gap: 12px;\n",
              "    }\n",
              "\n",
              "    .colab-df-convert {\n",
              "      background-color: #E8F0FE;\n",
              "      border: none;\n",
              "      border-radius: 50%;\n",
              "      cursor: pointer;\n",
              "      display: none;\n",
              "      fill: #1967D2;\n",
              "      height: 32px;\n",
              "      padding: 0 0 0 0;\n",
              "      width: 32px;\n",
              "    }\n",
              "\n",
              "    .colab-df-convert:hover {\n",
              "      background-color: #E2EBFA;\n",
              "      box-shadow: 0px 1px 2px rgba(60, 64, 67, 0.3), 0px 1px 3px 1px rgba(60, 64, 67, 0.15);\n",
              "      fill: #174EA6;\n",
              "    }\n",
              "\n",
              "    [theme=dark] .colab-df-convert {\n",
              "      background-color: #3B4455;\n",
              "      fill: #D2E3FC;\n",
              "    }\n",
              "\n",
              "    [theme=dark] .colab-df-convert:hover {\n",
              "      background-color: #434B5C;\n",
              "      box-shadow: 0px 1px 3px 1px rgba(0, 0, 0, 0.15);\n",
              "      filter: drop-shadow(0px 1px 2px rgba(0, 0, 0, 0.3));\n",
              "      fill: #FFFFFF;\n",
              "    }\n",
              "  </style>\n",
              "\n",
              "      <script>\n",
              "        const buttonEl =\n",
              "          document.querySelector('#df-fb96c39a-c23a-4787-bc1d-574778cd3090 button.colab-df-convert');\n",
              "        buttonEl.style.display =\n",
              "          google.colab.kernel.accessAllowed ? 'block' : 'none';\n",
              "\n",
              "        async function convertToInteractive(key) {\n",
              "          const element = document.querySelector('#df-fb96c39a-c23a-4787-bc1d-574778cd3090');\n",
              "          const dataTable =\n",
              "            await google.colab.kernel.invokeFunction('convertToInteractive',\n",
              "                                                     [key], {});\n",
              "          if (!dataTable) return;\n",
              "\n",
              "          const docLinkHtml = 'Like what you see? Visit the ' +\n",
              "            '<a target=\"_blank\" href=https://colab.research.google.com/notebooks/data_table.ipynb>data table notebook</a>'\n",
              "            + ' to learn more about interactive tables.';\n",
              "          element.innerHTML = '';\n",
              "          dataTable['output_type'] = 'display_data';\n",
              "          await google.colab.output.renderOutput(dataTable, element);\n",
              "          const docLink = document.createElement('div');\n",
              "          docLink.innerHTML = docLinkHtml;\n",
              "          element.appendChild(docLink);\n",
              "        }\n",
              "      </script>\n",
              "    </div>\n",
              "  </div>\n",
              "  "
            ]
          },
          "metadata": {},
          "execution_count": 3
        }
      ]
    },
    {
      "cell_type": "markdown",
      "metadata": {
        "id": "XbCVTI6lCmgp"
      },
      "source": [
        "# Data Cleaning and prep"
      ]
    },
    {
      "cell_type": "markdown",
      "metadata": {
        "id": "8zpgw8IiBmla"
      },
      "source": [
        "Let's take a look at the columns inside of the data"
      ]
    },
    {
      "cell_type": "code",
      "metadata": {
        "id": "0G0EeUO-Bkf-"
      },
      "source": [
        "list(data)"
      ],
      "execution_count": null,
      "outputs": []
    },
    {
      "cell_type": "markdown",
      "metadata": {
        "id": "bpR6-YiTCPVr"
      },
      "source": [
        "There are almost 1,500 columns of data here. If we were to exhaustively look at each column, we'd have a thesis on our hands. For the sake of your sanity, we're going to look at a small subset of columns, specifically these:"
      ]
    },
    {
      "cell_type": "code",
      "metadata": {
        "id": "pRQ9eZVzCytZ"
      },
      "source": [
        "good_columns = [\n",
        "    'days_elec_pminus',\n",
        "    'bin_before',\n",
        "    'medium_bin',\n",
        "    'impress',\n",
        "    'clicks',\n",
        "    'spend',\n",
        "    'toxic',\n",
        "    'sevtoxic',\n",
        "    'idattack',\n",
        "    'insult',\n",
        "    'profane',\n",
        "    'threat',\n",
        "    'sexexp',\n",
        "    'flirt',\n",
        "    'a_author',\n",
        "    'a_commentor',\n",
        "    'incoh',\n",
        "    'inflam',\n",
        "    'obscene'\n",
        "]"
      ],
      "execution_count": null,
      "outputs": []
    },
    {
      "cell_type": "markdown",
      "metadata": {
        "id": "IczCmLQLISoP"
      },
      "source": [
        "## Filter_by_columns\n",
        "\n",
        "Create a function that filters the dataframe and returns a dataframe with only the provided columns. This function will then be used to filter our dataframe by `good_columns`."
      ]
    },
    {
      "cell_type": "code",
      "metadata": {
        "id": "rgnTfYROIeHt"
      },
      "source": [
        "def filter_by_columns(data, columns):\n",
        "    \"\"\"Returns a DataFrame that is DataFrame `data` filtered to include\n",
        "    only the columns specified by the list `columns`.\n",
        "    \"\"\"\n",
        "    new_df = data[columns]\n",
        "    return new_df"
      ],
      "execution_count": null,
      "outputs": []
    },
    {
      "cell_type": "code",
      "metadata": {
        "id": "2l-2Gn44I-lV"
      },
      "source": [
        "filtered_data = filter_by_columns(data, good_columns)"
      ],
      "execution_count": null,
      "outputs": []
    },
    {
      "cell_type": "code",
      "metadata": {
        "id": "CTXbCBGrXdAU",
        "colab": {
          "base_uri": "https://localhost:8080/",
          "height": 364
        },
        "outputId": "9bf741c4-4fc8-46c2-f8a3-da97d36fa186"
      },
      "source": [
        "#~~ grader-ignore:\n",
        "filtered_data.describe()\n",
        "#~~ /grader-ignore"
      ],
      "execution_count": null,
      "outputs": [
        {
          "output_type": "execute_result",
          "data": {
            "text/plain": [
              "       days_elec_pminus   bin_before   medium_bin       impress        clicks  \\\n",
              "count       2603.000000  2603.000000  2603.000000  2.603000e+03   2603.000000   \n",
              "mean          84.545140     0.588167     0.963504  1.558705e+04   1434.482904   \n",
              "std          213.464054     0.492260     0.187558  5.220933e+04   3856.227669   \n",
              "min         -278.000000     0.000000     0.000000  1.000000e+00      0.000000   \n",
              "25%         -125.000000     0.000000     1.000000  6.085000e+02     40.000000   \n",
              "50%           47.000000     1.000000     1.000000  3.450000e+03    245.000000   \n",
              "75%          211.000000     1.000000     1.000000  1.265350e+04   1412.500000   \n",
              "max          518.000000     1.000000     1.000000  1.334544e+06  73063.000000   \n",
              "\n",
              "               spend        toxic     sevtoxic     idattack       insult  \\\n",
              "count    2603.000000  2567.000000  2567.000000  2567.000000  2567.000000   \n",
              "mean     2259.621978     0.282537     0.178731     0.363708     0.240508   \n",
              "std     10412.677227     0.196168     0.155516     0.263367     0.181610   \n",
              "min         0.000000     0.005326     0.002737     0.007891     0.005239   \n",
              "25%       127.485000     0.106319     0.048998     0.110510     0.081430   \n",
              "50%       300.000000     0.241943     0.137857     0.301972     0.219467   \n",
              "75%       769.900000     0.435198     0.265890     0.606927     0.348619   \n",
              "max    331675.750000     0.968733     0.813341     0.958674     0.853236   \n",
              "\n",
              "           profane       threat       sexexp        flirt     a_author  \\\n",
              "count  2567.000000  2567.000000  2567.000000  2567.000000  2567.000000   \n",
              "mean      0.169406     0.281331     0.144173     0.348318     0.085155   \n",
              "std       0.139665     0.188673     0.105656     0.157812     0.122024   \n",
              "min       0.005024     0.010024     0.007683     0.035857     0.000002   \n",
              "25%       0.056207     0.135015     0.071904     0.226852     0.011162   \n",
              "50%       0.144725     0.233145     0.130930     0.356524     0.041313   \n",
              "75%       0.251765     0.379598     0.178907     0.447060     0.105646   \n",
              "max       0.979797     0.948494     0.989824     0.968972     0.884986   \n",
              "\n",
              "       a_commentor        incoh       inflam      obscene  \n",
              "count  2567.000000  2567.000000  2567.000000  2567.000000  \n",
              "mean      0.233880     0.621705     0.412045     0.139888  \n",
              "std       0.244604     0.201800     0.242694     0.201830  \n",
              "min       0.000013     0.002360     0.000067     0.000033  \n",
              "25%       0.041756     0.474158     0.190638     0.027065  \n",
              "50%       0.145668     0.641103     0.426272     0.057572  \n",
              "75%       0.332387     0.779085     0.628208     0.142816  \n",
              "max       0.968173     0.988748     0.908876     0.993693  "
            ],
            "text/html": [
              "\n",
              "  <div id=\"df-efc4f179-112b-4bf4-85ff-e82793b03842\">\n",
              "    <div class=\"colab-df-container\">\n",
              "      <div>\n",
              "<style scoped>\n",
              "    .dataframe tbody tr th:only-of-type {\n",
              "        vertical-align: middle;\n",
              "    }\n",
              "\n",
              "    .dataframe tbody tr th {\n",
              "        vertical-align: top;\n",
              "    }\n",
              "\n",
              "    .dataframe thead th {\n",
              "        text-align: right;\n",
              "    }\n",
              "</style>\n",
              "<table border=\"1\" class=\"dataframe\">\n",
              "  <thead>\n",
              "    <tr style=\"text-align: right;\">\n",
              "      <th></th>\n",
              "      <th>days_elec_pminus</th>\n",
              "      <th>bin_before</th>\n",
              "      <th>medium_bin</th>\n",
              "      <th>impress</th>\n",
              "      <th>clicks</th>\n",
              "      <th>spend</th>\n",
              "      <th>toxic</th>\n",
              "      <th>sevtoxic</th>\n",
              "      <th>idattack</th>\n",
              "      <th>insult</th>\n",
              "      <th>profane</th>\n",
              "      <th>threat</th>\n",
              "      <th>sexexp</th>\n",
              "      <th>flirt</th>\n",
              "      <th>a_author</th>\n",
              "      <th>a_commentor</th>\n",
              "      <th>incoh</th>\n",
              "      <th>inflam</th>\n",
              "      <th>obscene</th>\n",
              "    </tr>\n",
              "  </thead>\n",
              "  <tbody>\n",
              "    <tr>\n",
              "      <th>count</th>\n",
              "      <td>2603.000000</td>\n",
              "      <td>2603.000000</td>\n",
              "      <td>2603.000000</td>\n",
              "      <td>2.603000e+03</td>\n",
              "      <td>2603.000000</td>\n",
              "      <td>2603.000000</td>\n",
              "      <td>2567.000000</td>\n",
              "      <td>2567.000000</td>\n",
              "      <td>2567.000000</td>\n",
              "      <td>2567.000000</td>\n",
              "      <td>2567.000000</td>\n",
              "      <td>2567.000000</td>\n",
              "      <td>2567.000000</td>\n",
              "      <td>2567.000000</td>\n",
              "      <td>2567.000000</td>\n",
              "      <td>2567.000000</td>\n",
              "      <td>2567.000000</td>\n",
              "      <td>2567.000000</td>\n",
              "      <td>2567.000000</td>\n",
              "    </tr>\n",
              "    <tr>\n",
              "      <th>mean</th>\n",
              "      <td>84.545140</td>\n",
              "      <td>0.588167</td>\n",
              "      <td>0.963504</td>\n",
              "      <td>1.558705e+04</td>\n",
              "      <td>1434.482904</td>\n",
              "      <td>2259.621978</td>\n",
              "      <td>0.282537</td>\n",
              "      <td>0.178731</td>\n",
              "      <td>0.363708</td>\n",
              "      <td>0.240508</td>\n",
              "      <td>0.169406</td>\n",
              "      <td>0.281331</td>\n",
              "      <td>0.144173</td>\n",
              "      <td>0.348318</td>\n",
              "      <td>0.085155</td>\n",
              "      <td>0.233880</td>\n",
              "      <td>0.621705</td>\n",
              "      <td>0.412045</td>\n",
              "      <td>0.139888</td>\n",
              "    </tr>\n",
              "    <tr>\n",
              "      <th>std</th>\n",
              "      <td>213.464054</td>\n",
              "      <td>0.492260</td>\n",
              "      <td>0.187558</td>\n",
              "      <td>5.220933e+04</td>\n",
              "      <td>3856.227669</td>\n",
              "      <td>10412.677227</td>\n",
              "      <td>0.196168</td>\n",
              "      <td>0.155516</td>\n",
              "      <td>0.263367</td>\n",
              "      <td>0.181610</td>\n",
              "      <td>0.139665</td>\n",
              "      <td>0.188673</td>\n",
              "      <td>0.105656</td>\n",
              "      <td>0.157812</td>\n",
              "      <td>0.122024</td>\n",
              "      <td>0.244604</td>\n",
              "      <td>0.201800</td>\n",
              "      <td>0.242694</td>\n",
              "      <td>0.201830</td>\n",
              "    </tr>\n",
              "    <tr>\n",
              "      <th>min</th>\n",
              "      <td>-278.000000</td>\n",
              "      <td>0.000000</td>\n",
              "      <td>0.000000</td>\n",
              "      <td>1.000000e+00</td>\n",
              "      <td>0.000000</td>\n",
              "      <td>0.000000</td>\n",
              "      <td>0.005326</td>\n",
              "      <td>0.002737</td>\n",
              "      <td>0.007891</td>\n",
              "      <td>0.005239</td>\n",
              "      <td>0.005024</td>\n",
              "      <td>0.010024</td>\n",
              "      <td>0.007683</td>\n",
              "      <td>0.035857</td>\n",
              "      <td>0.000002</td>\n",
              "      <td>0.000013</td>\n",
              "      <td>0.002360</td>\n",
              "      <td>0.000067</td>\n",
              "      <td>0.000033</td>\n",
              "    </tr>\n",
              "    <tr>\n",
              "      <th>25%</th>\n",
              "      <td>-125.000000</td>\n",
              "      <td>0.000000</td>\n",
              "      <td>1.000000</td>\n",
              "      <td>6.085000e+02</td>\n",
              "      <td>40.000000</td>\n",
              "      <td>127.485000</td>\n",
              "      <td>0.106319</td>\n",
              "      <td>0.048998</td>\n",
              "      <td>0.110510</td>\n",
              "      <td>0.081430</td>\n",
              "      <td>0.056207</td>\n",
              "      <td>0.135015</td>\n",
              "      <td>0.071904</td>\n",
              "      <td>0.226852</td>\n",
              "      <td>0.011162</td>\n",
              "      <td>0.041756</td>\n",
              "      <td>0.474158</td>\n",
              "      <td>0.190638</td>\n",
              "      <td>0.027065</td>\n",
              "    </tr>\n",
              "    <tr>\n",
              "      <th>50%</th>\n",
              "      <td>47.000000</td>\n",
              "      <td>1.000000</td>\n",
              "      <td>1.000000</td>\n",
              "      <td>3.450000e+03</td>\n",
              "      <td>245.000000</td>\n",
              "      <td>300.000000</td>\n",
              "      <td>0.241943</td>\n",
              "      <td>0.137857</td>\n",
              "      <td>0.301972</td>\n",
              "      <td>0.219467</td>\n",
              "      <td>0.144725</td>\n",
              "      <td>0.233145</td>\n",
              "      <td>0.130930</td>\n",
              "      <td>0.356524</td>\n",
              "      <td>0.041313</td>\n",
              "      <td>0.145668</td>\n",
              "      <td>0.641103</td>\n",
              "      <td>0.426272</td>\n",
              "      <td>0.057572</td>\n",
              "    </tr>\n",
              "    <tr>\n",
              "      <th>75%</th>\n",
              "      <td>211.000000</td>\n",
              "      <td>1.000000</td>\n",
              "      <td>1.000000</td>\n",
              "      <td>1.265350e+04</td>\n",
              "      <td>1412.500000</td>\n",
              "      <td>769.900000</td>\n",
              "      <td>0.435198</td>\n",
              "      <td>0.265890</td>\n",
              "      <td>0.606927</td>\n",
              "      <td>0.348619</td>\n",
              "      <td>0.251765</td>\n",
              "      <td>0.379598</td>\n",
              "      <td>0.178907</td>\n",
              "      <td>0.447060</td>\n",
              "      <td>0.105646</td>\n",
              "      <td>0.332387</td>\n",
              "      <td>0.779085</td>\n",
              "      <td>0.628208</td>\n",
              "      <td>0.142816</td>\n",
              "    </tr>\n",
              "    <tr>\n",
              "      <th>max</th>\n",
              "      <td>518.000000</td>\n",
              "      <td>1.000000</td>\n",
              "      <td>1.000000</td>\n",
              "      <td>1.334544e+06</td>\n",
              "      <td>73063.000000</td>\n",
              "      <td>331675.750000</td>\n",
              "      <td>0.968733</td>\n",
              "      <td>0.813341</td>\n",
              "      <td>0.958674</td>\n",
              "      <td>0.853236</td>\n",
              "      <td>0.979797</td>\n",
              "      <td>0.948494</td>\n",
              "      <td>0.989824</td>\n",
              "      <td>0.968972</td>\n",
              "      <td>0.884986</td>\n",
              "      <td>0.968173</td>\n",
              "      <td>0.988748</td>\n",
              "      <td>0.908876</td>\n",
              "      <td>0.993693</td>\n",
              "    </tr>\n",
              "  </tbody>\n",
              "</table>\n",
              "</div>\n",
              "      <button class=\"colab-df-convert\" onclick=\"convertToInteractive('df-efc4f179-112b-4bf4-85ff-e82793b03842')\"\n",
              "              title=\"Convert this dataframe to an interactive table.\"\n",
              "              style=\"display:none;\">\n",
              "        \n",
              "  <svg xmlns=\"http://www.w3.org/2000/svg\" height=\"24px\"viewBox=\"0 0 24 24\"\n",
              "       width=\"24px\">\n",
              "    <path d=\"M0 0h24v24H0V0z\" fill=\"none\"/>\n",
              "    <path d=\"M18.56 5.44l.94 2.06.94-2.06 2.06-.94-2.06-.94-.94-2.06-.94 2.06-2.06.94zm-11 1L8.5 8.5l.94-2.06 2.06-.94-2.06-.94L8.5 2.5l-.94 2.06-2.06.94zm10 10l.94 2.06.94-2.06 2.06-.94-2.06-.94-.94-2.06-.94 2.06-2.06.94z\"/><path d=\"M17.41 7.96l-1.37-1.37c-.4-.4-.92-.59-1.43-.59-.52 0-1.04.2-1.43.59L10.3 9.45l-7.72 7.72c-.78.78-.78 2.05 0 2.83L4 21.41c.39.39.9.59 1.41.59.51 0 1.02-.2 1.41-.59l7.78-7.78 2.81-2.81c.8-.78.8-2.07 0-2.86zM5.41 20L4 18.59l7.72-7.72 1.47 1.35L5.41 20z\"/>\n",
              "  </svg>\n",
              "      </button>\n",
              "      \n",
              "  <style>\n",
              "    .colab-df-container {\n",
              "      display:flex;\n",
              "      flex-wrap:wrap;\n",
              "      gap: 12px;\n",
              "    }\n",
              "\n",
              "    .colab-df-convert {\n",
              "      background-color: #E8F0FE;\n",
              "      border: none;\n",
              "      border-radius: 50%;\n",
              "      cursor: pointer;\n",
              "      display: none;\n",
              "      fill: #1967D2;\n",
              "      height: 32px;\n",
              "      padding: 0 0 0 0;\n",
              "      width: 32px;\n",
              "    }\n",
              "\n",
              "    .colab-df-convert:hover {\n",
              "      background-color: #E2EBFA;\n",
              "      box-shadow: 0px 1px 2px rgba(60, 64, 67, 0.3), 0px 1px 3px 1px rgba(60, 64, 67, 0.15);\n",
              "      fill: #174EA6;\n",
              "    }\n",
              "\n",
              "    [theme=dark] .colab-df-convert {\n",
              "      background-color: #3B4455;\n",
              "      fill: #D2E3FC;\n",
              "    }\n",
              "\n",
              "    [theme=dark] .colab-df-convert:hover {\n",
              "      background-color: #434B5C;\n",
              "      box-shadow: 0px 1px 3px 1px rgba(0, 0, 0, 0.15);\n",
              "      filter: drop-shadow(0px 1px 2px rgba(0, 0, 0, 0.3));\n",
              "      fill: #FFFFFF;\n",
              "    }\n",
              "  </style>\n",
              "\n",
              "      <script>\n",
              "        const buttonEl =\n",
              "          document.querySelector('#df-efc4f179-112b-4bf4-85ff-e82793b03842 button.colab-df-convert');\n",
              "        buttonEl.style.display =\n",
              "          google.colab.kernel.accessAllowed ? 'block' : 'none';\n",
              "\n",
              "        async function convertToInteractive(key) {\n",
              "          const element = document.querySelector('#df-efc4f179-112b-4bf4-85ff-e82793b03842');\n",
              "          const dataTable =\n",
              "            await google.colab.kernel.invokeFunction('convertToInteractive',\n",
              "                                                     [key], {});\n",
              "          if (!dataTable) return;\n",
              "\n",
              "          const docLinkHtml = 'Like what you see? Visit the ' +\n",
              "            '<a target=\"_blank\" href=https://colab.research.google.com/notebooks/data_table.ipynb>data table notebook</a>'\n",
              "            + ' to learn more about interactive tables.';\n",
              "          element.innerHTML = '';\n",
              "          dataTable['output_type'] = 'display_data';\n",
              "          await google.colab.output.renderOutput(dataTable, element);\n",
              "          const docLink = document.createElement('div');\n",
              "          docLink.innerHTML = docLinkHtml;\n",
              "          element.appendChild(docLink);\n",
              "        }\n",
              "      </script>\n",
              "    </div>\n",
              "  </div>\n",
              "  "
            ]
          },
          "metadata": {},
          "execution_count": 9
        }
      ]
    },
    {
      "cell_type": "markdown",
      "metadata": {
        "id": "gdzH6QsG0wqB"
      },
      "source": [
        "The above cell should show statistics for `filtered_data` which should now be a\n",
        "DataFrame that only includes the columns of our list of `good_columns`."
      ]
    },
    {
      "cell_type": "markdown",
      "metadata": {
        "id": "3efHdtCQJGlm"
      },
      "source": [
        "## Get_missing_row_counts\n",
        "\n",
        "Check the dataframe to see if there is missing data in any of the columns. Return the column names and the total number of missing rows for each columns. Use this method: https://www.kite.com/python/answers/how-to-count-the-number-of-nan-values-in-a-pandas-dataframe-column-in-python, but apply it to the entire frame in order to get the counts for all columns.\n",
        "\n",
        "The return result of this function will be a [Pandas Series](https://pandas.pydata.org/pandas-docs/stable/reference/api/pandas.Series.html) with the axis labels being the column names and the values being a count for the respective column."
      ]
    },
    {
      "cell_type": "code",
      "metadata": {
        "id": "Idilatq6Cmgq"
      },
      "source": [
        "def get_missing_row_counts(df):\n",
        "    \"\"\"Returns a missing value summary of DataFrame df, which is a series of\n",
        "    `na` counts by column.\n",
        "    \n",
        "    The return value should be a series of count values indexed by the column\n",
        "    name.\n",
        "    \"\"\"\n",
        "    na_counts = df.isna().sum()\n",
        "    return na_counts"
      ],
      "execution_count": null,
      "outputs": []
    },
    {
      "cell_type": "code",
      "metadata": {
        "id": "OktMT4S0Jz9u"
      },
      "source": [
        "missing_row_counts = get_missing_row_counts(filtered_data)"
      ],
      "execution_count": null,
      "outputs": []
    },
    {
      "cell_type": "code",
      "metadata": {
        "id": "w-bg-2NIYvjP",
        "colab": {
          "base_uri": "https://localhost:8080/"
        },
        "outputId": "a0db2f14-afea-4bdc-ccfd-d0df4a07e9e9"
      },
      "source": [
        "missing_row_counts"
      ],
      "execution_count": null,
      "outputs": [
        {
          "output_type": "execute_result",
          "data": {
            "text/plain": [
              "days_elec_pminus     0\n",
              "bin_before           0\n",
              "medium_bin           0\n",
              "impress              0\n",
              "clicks               0\n",
              "spend                0\n",
              "toxic               36\n",
              "sevtoxic            36\n",
              "idattack            36\n",
              "insult              36\n",
              "profane             36\n",
              "threat              36\n",
              "sexexp              36\n",
              "flirt               36\n",
              "a_author            36\n",
              "a_commentor         36\n",
              "incoh               36\n",
              "inflam              36\n",
              "obscene             36\n",
              "dtype: int64"
            ]
          },
          "metadata": {},
          "execution_count": 12
        }
      ]
    },
    {
      "cell_type": "markdown",
      "metadata": {
        "id": "U39UhxLfLCgh"
      },
      "source": [
        "## Non_zeros\n",
        "\n",
        "Implement the function non_zeros and use it to create a list of column names that have missing rows.\n",
        "\n"
      ]
    },
    {
      "cell_type": "code",
      "metadata": {
        "id": "yMuVmx_fK5HL"
      },
      "source": [
        "def non_zeros(series):\n",
        "    \"\"\"Returns a list of the index values in series for which\n",
        "    the value is greater than 0.\n",
        "    \"\"\" \n",
        "    col = []\n",
        "    for i, num in series.iteritems():\n",
        "        if num != 0:\n",
        "            col.append(i)\n",
        "    return col"
      ],
      "execution_count": null,
      "outputs": []
    },
    {
      "cell_type": "code",
      "metadata": {
        "id": "9yH7tHZtMy35"
      },
      "source": [
        "missing_cols = non_zeros(missing_row_counts)"
      ],
      "execution_count": null,
      "outputs": []
    },
    {
      "cell_type": "code",
      "metadata": {
        "id": "UrJlB6L2ZMjN",
        "colab": {
          "base_uri": "https://localhost:8080/"
        },
        "outputId": "17d40911-85eb-4c0a-987e-274f7da882d8"
      },
      "source": [
        "missing_cols"
      ],
      "execution_count": null,
      "outputs": [
        {
          "output_type": "execute_result",
          "data": {
            "text/plain": [
              "['toxic',\n",
              " 'sevtoxic',\n",
              " 'idattack',\n",
              " 'insult',\n",
              " 'profane',\n",
              " 'threat',\n",
              " 'sexexp',\n",
              " 'flirt',\n",
              " 'a_author',\n",
              " 'a_commentor',\n",
              " 'incoh',\n",
              " 'inflam',\n",
              " 'obscene']"
            ]
          },
          "metadata": {},
          "execution_count": 17
        }
      ]
    },
    {
      "cell_type": "markdown",
      "metadata": {
        "id": "jE2D39mw6ZNT"
      },
      "source": [
        "**Sanity check:** `missing_cols` printed above should be a list of column names. It will be some subset of `good_columns`. Compare this list with the Series `missing_row_counts` above and be sure the results make sense and are what you expect them to be."
      ]
    },
    {
      "cell_type": "markdown",
      "metadata": {
        "id": "WJt265pnNBKX"
      },
      "source": [
        "## Fill_nas\n",
        "\n",
        "Use pandas to fill in blank rows in the affected columns. **Replace the missing values with the mean value for each column.**\n",
        "\n"
      ]
    },
    {
      "cell_type": "code",
      "metadata": {
        "id": "ECpb5FgfN8hi"
      },
      "source": [
        "# Example of how to handle a single column. fill_nas should do this for all affected columns\n",
        "\n",
        "#~~ grader-ignore:\n",
        "filtered_data['toxic'].fillna(filtered_data['toxic'].mean(), inplace=True)\n",
        "#~~ /grader-ignore"
      ],
      "execution_count": null,
      "outputs": []
    },
    {
      "cell_type": "code",
      "metadata": {
        "id": "D3zGk7laOdBp"
      },
      "source": [
        "def fill_nas(df, cols_with_nas):\n",
        "    \"\"\"For the columns specified by cols_with_nas, fill the na entries for that\n",
        "    column in DataFrame df. The entered fill value should be the mean for the\n",
        "    existing values in that column.\n",
        "\n",
        "    Operates on the dataframe in place, but also returns the resulting dataframe.\n",
        "    \"\"\"\n",
        "    for col in cols_with_nas:\n",
        "       df[col].fillna(df[col].mean(), inplace=True)\n",
        "    return df"
      ],
      "execution_count": null,
      "outputs": []
    },
    {
      "cell_type": "code",
      "metadata": {
        "id": "LSOj2i6mO0RY"
      },
      "source": [
        "final_data = fill_nas(filtered_data, missing_cols)"
      ],
      "execution_count": null,
      "outputs": []
    },
    {
      "cell_type": "markdown",
      "metadata": {
        "id": "TOa8iNiI7QIQ"
      },
      "source": [
        "**Sanity check:** There should be no more na data in the frame, so the following cell should report all zeros:"
      ]
    },
    {
      "cell_type": "code",
      "metadata": {
        "id": "TognsMEWO7PH",
        "colab": {
          "base_uri": "https://localhost:8080/"
        },
        "outputId": "9005ea8e-538e-494b-d956-378d5bba4a5d"
      },
      "source": [
        "#~~ grader-ignore:\n",
        "final_data.isna().sum()\n",
        "#~~ /grader-ignore"
      ],
      "execution_count": null,
      "outputs": [
        {
          "output_type": "execute_result",
          "data": {
            "text/plain": [
              "days_elec_pminus    0\n",
              "bin_before          0\n",
              "medium_bin          0\n",
              "impress             0\n",
              "clicks              0\n",
              "spend               0\n",
              "toxic               0\n",
              "sevtoxic            0\n",
              "idattack            0\n",
              "insult              0\n",
              "profane             0\n",
              "threat              0\n",
              "sexexp              0\n",
              "flirt               0\n",
              "a_author            0\n",
              "a_commentor         0\n",
              "incoh               0\n",
              "inflam              0\n",
              "obscene             0\n",
              "dtype: int64"
            ]
          },
          "metadata": {},
          "execution_count": 34
        }
      ]
    },
    {
      "cell_type": "markdown",
      "metadata": {
        "id": "0IwI4FepPBdb"
      },
      "source": [
        "We should see 0's across the board above."
      ]
    },
    {
      "cell_type": "markdown",
      "metadata": {
        "id": "B696C5M5RyX8"
      },
      "source": [
        "## Extract_target\n",
        "\n",
        "The data is finally clean. You will now do the work to extract the target from the remaining data so that you have a predictor frame and a target frame to work with.\n",
        "\n",
        "Create a function that separates your final_data into two dataframes. One dataframe should contain all your predictors (X). The other should contain your target variable (y). Your target is 'clicks'."
      ]
    },
    {
      "cell_type": "code",
      "metadata": {
        "id": "Bd2Y-IeUXLKc"
      },
      "source": [
        "def extract_target(df, target):\n",
        "    \"\"\"Separate DataFrame df into a target Series and a predictor DataFrame.\n",
        "\n",
        "    Returns the y, X tuple of target and predictor. The returned X\n",
        "    should no longer contain the column that has now been extracted as y.\n",
        "    \"\"\"\n",
        "    y = df[target]\n",
        "    X = df.iloc[:, df.columns != target]\n",
        "    return y, X"
      ],
      "execution_count": null,
      "outputs": []
    },
    {
      "cell_type": "code",
      "metadata": {
        "id": "raQzu_7iXuCY"
      },
      "source": [
        "#~~ grader-ignore:\n",
        "y, X = extract_target(final_data, 'clicks')\n",
        "#~~ /grader-ignore"
      ],
      "execution_count": null,
      "outputs": []
    },
    {
      "cell_type": "markdown",
      "metadata": {
        "id": "nGezWc5j98Ew"
      },
      "source": [
        "**Sanity check:** Again, these checks should pass the assertions"
      ]
    },
    {
      "cell_type": "code",
      "metadata": {
        "id": "K__8VbU39b7O"
      },
      "source": [
        "#~~ grader-ignore:\n",
        "assert type(y) == pd.core.series.Series\n",
        "assert type(X) == pd.DataFrame\n",
        "assert 'clicks' not in X.columns\n",
        "#~~ /grader-ignore"
      ],
      "execution_count": null,
      "outputs": []
    },
    {
      "cell_type": "markdown",
      "metadata": {
        "id": "iL53l8uAQn9C"
      },
      "source": [
        "# LASSO Model"
      ]
    },
    {
      "cell_type": "markdown",
      "metadata": {
        "id": "mTirIxCGYZQ4"
      },
      "source": [
        "## Split_data\n",
        "\n",
        "Use [sklearn's train_test_split](https://scikit-learn.org/stable/modules/generated/sklearn.model_selection.train_test_split.html) (already imported above) to separate the data into training and test dataframes. Train on 80% of the data, test on 20%. Use a radom state of 123. Your function should accept y and X and return pred_train, pred_test, tar_train, tar_test"
      ]
    },
    {
      "cell_type": "code",
      "metadata": {
        "id": "milYjRjHY4n_"
      },
      "source": [
        "def split_data(y, X, n=0.2, random_state=123):\n",
        "    \"\"\"Split target and predictor y, X into train and test portions.\n",
        "\n",
        "    Returns the 4-tuple of (X_train, X_test, y_train, y_test) created by\n",
        "    a train_test_split of n% as test data.\n",
        "    \"\"\"\n",
        "    X_train, X_test, y_train, y_test = train_test_split(X, y, test_size=n, random_state=random_state)\n",
        "    return X_train, X_test, y_train, y_test"
      ],
      "execution_count": null,
      "outputs": []
    },
    {
      "cell_type": "code",
      "metadata": {
        "id": "kMKMTVABUvwv"
      },
      "source": [
        "#~~ grader-ignore:\n",
        "X_train, X_test, y_train, y_test = split_data(y, X)\n",
        "#~~ /grader-ignore"
      ],
      "execution_count": null,
      "outputs": []
    },
    {
      "cell_type": "markdown",
      "metadata": {
        "id": "85muYoDorTpC"
      },
      "source": [
        "## Build_and_fit_lasso_model\n",
        "\n",
        "Fit a LassoLars CV model on the training data. Fit the model in the below function (return the result of model.fit). Use the following parameters when creating your model:\n",
        "\n",
        " * cv = 10\n",
        " * precompute = False"
      ]
    },
    {
      "cell_type": "code",
      "metadata": {
        "id": "PIq5VNotZ-6V"
      },
      "source": [
        "def build_and_fit_lasso_model(X, y):\n",
        "    \"\"\"Creates and returns a LASSO model that is fitted to the values of the\n",
        "    given predictor and target X, and y.\n",
        "    \"\"\"\n",
        "    model = LassoLarsCV(cv=10, precompute=False,normalize=True)\n",
        "    model_fit = model.fit(X, y)\n",
        "    return model_fit"
      ],
      "execution_count": null,
      "outputs": []
    },
    {
      "cell_type": "code",
      "metadata": {
        "id": "M1QGUHPea8qp",
        "colab": {
          "base_uri": "https://localhost:8080/",
          "height": 74
        },
        "outputId": "12f880de-9736-4a4d-fb6f-c2e792317b2c"
      },
      "source": [
        "#~~ grader-ignore:\n",
        "lasso_model = build_and_fit_lasso_model(X_train, y_train)\n",
        "lasso_model\n",
        "#~~ /grader-ignore"
      ],
      "execution_count": null,
      "outputs": [
        {
          "output_type": "execute_result",
          "data": {
            "text/plain": [
              "LassoLarsCV(cv=10, normalize=True, precompute=False)"
            ],
            "text/html": [
              "<style>#sk-container-id-7 {color: black;background-color: white;}#sk-container-id-7 pre{padding: 0;}#sk-container-id-7 div.sk-toggleable {background-color: white;}#sk-container-id-7 label.sk-toggleable__label {cursor: pointer;display: block;width: 100%;margin-bottom: 0;padding: 0.3em;box-sizing: border-box;text-align: center;}#sk-container-id-7 label.sk-toggleable__label-arrow:before {content: \"▸\";float: left;margin-right: 0.25em;color: #696969;}#sk-container-id-7 label.sk-toggleable__label-arrow:hover:before {color: black;}#sk-container-id-7 div.sk-estimator:hover label.sk-toggleable__label-arrow:before {color: black;}#sk-container-id-7 div.sk-toggleable__content {max-height: 0;max-width: 0;overflow: hidden;text-align: left;background-color: #f0f8ff;}#sk-container-id-7 div.sk-toggleable__content pre {margin: 0.2em;color: black;border-radius: 0.25em;background-color: #f0f8ff;}#sk-container-id-7 input.sk-toggleable__control:checked~div.sk-toggleable__content {max-height: 200px;max-width: 100%;overflow: auto;}#sk-container-id-7 input.sk-toggleable__control:checked~label.sk-toggleable__label-arrow:before {content: \"▾\";}#sk-container-id-7 div.sk-estimator input.sk-toggleable__control:checked~label.sk-toggleable__label {background-color: #d4ebff;}#sk-container-id-7 div.sk-label input.sk-toggleable__control:checked~label.sk-toggleable__label {background-color: #d4ebff;}#sk-container-id-7 input.sk-hidden--visually {border: 0;clip: rect(1px 1px 1px 1px);clip: rect(1px, 1px, 1px, 1px);height: 1px;margin: -1px;overflow: hidden;padding: 0;position: absolute;width: 1px;}#sk-container-id-7 div.sk-estimator {font-family: monospace;background-color: #f0f8ff;border: 1px dotted black;border-radius: 0.25em;box-sizing: border-box;margin-bottom: 0.5em;}#sk-container-id-7 div.sk-estimator:hover {background-color: #d4ebff;}#sk-container-id-7 div.sk-parallel-item::after {content: \"\";width: 100%;border-bottom: 1px solid gray;flex-grow: 1;}#sk-container-id-7 div.sk-label:hover label.sk-toggleable__label {background-color: #d4ebff;}#sk-container-id-7 div.sk-serial::before {content: \"\";position: absolute;border-left: 1px solid gray;box-sizing: border-box;top: 0;bottom: 0;left: 50%;z-index: 0;}#sk-container-id-7 div.sk-serial {display: flex;flex-direction: column;align-items: center;background-color: white;padding-right: 0.2em;padding-left: 0.2em;position: relative;}#sk-container-id-7 div.sk-item {position: relative;z-index: 1;}#sk-container-id-7 div.sk-parallel {display: flex;align-items: stretch;justify-content: center;background-color: white;position: relative;}#sk-container-id-7 div.sk-item::before, #sk-container-id-7 div.sk-parallel-item::before {content: \"\";position: absolute;border-left: 1px solid gray;box-sizing: border-box;top: 0;bottom: 0;left: 50%;z-index: -1;}#sk-container-id-7 div.sk-parallel-item {display: flex;flex-direction: column;z-index: 1;position: relative;background-color: white;}#sk-container-id-7 div.sk-parallel-item:first-child::after {align-self: flex-end;width: 50%;}#sk-container-id-7 div.sk-parallel-item:last-child::after {align-self: flex-start;width: 50%;}#sk-container-id-7 div.sk-parallel-item:only-child::after {width: 0;}#sk-container-id-7 div.sk-dashed-wrapped {border: 1px dashed gray;margin: 0 0.4em 0.5em 0.4em;box-sizing: border-box;padding-bottom: 0.4em;background-color: white;}#sk-container-id-7 div.sk-label label {font-family: monospace;font-weight: bold;display: inline-block;line-height: 1.2em;}#sk-container-id-7 div.sk-label-container {text-align: center;}#sk-container-id-7 div.sk-container {/* jupyter's `normalize.less` sets `[hidden] { display: none; }` but bootstrap.min.css set `[hidden] { display: none !important; }` so we also need the `!important` here to be able to override the default hidden behavior on the sphinx rendered scikit-learn.org. See: https://github.com/scikit-learn/scikit-learn/issues/21755 */display: inline-block !important;position: relative;}#sk-container-id-7 div.sk-text-repr-fallback {display: none;}</style><div id=\"sk-container-id-7\" class=\"sk-top-container\"><div class=\"sk-text-repr-fallback\"><pre>LassoLarsCV(cv=10, normalize=True, precompute=False)</pre><b>In a Jupyter environment, please rerun this cell to show the HTML representation or trust the notebook. <br />On GitHub, the HTML representation is unable to render, please try loading this page with nbviewer.org.</b></div><div class=\"sk-container\" hidden><div class=\"sk-item\"><div class=\"sk-estimator sk-toggleable\"><input class=\"sk-toggleable__control sk-hidden--visually\" id=\"sk-estimator-id-7\" type=\"checkbox\" checked><label for=\"sk-estimator-id-7\" class=\"sk-toggleable__label sk-toggleable__label-arrow\">LassoLarsCV</label><div class=\"sk-toggleable__content\"><pre>LassoLarsCV(cv=10, normalize=True, precompute=False)</pre></div></div></div></div></div>"
            ]
          },
          "metadata": {},
          "execution_count": 110
        }
      ]
    },
    {
      "cell_type": "markdown",
      "metadata": {
        "id": "Ec6iXsJdapDO"
      },
      "source": [
        "## Get_coefficients\n",
        "\n",
        "Create a function that returns a DataFrame with variable names and coefficients inside of the fit lasso model\n",
        "\n"
      ]
    },
    {
      "cell_type": "code",
      "metadata": {
        "id": "syv07uBpan1u"
      },
      "source": [
        "def get_coefficients(model, X):\n",
        "    \"\"\"Returns a DataFrame containing the columns `label` and `coeff` which are\n",
        "    the coefficients by column name.\n",
        "    \"\"\"\n",
        "    allpredictors = list(X.columns)\n",
        "    predictors_model=pd.DataFrame(allpredictors)\n",
        "    predictors_model.columns = ['label']\n",
        "    predictors_model['coeff'] = model.coef_\n",
        "    return predictors_model"
      ],
      "execution_count": null,
      "outputs": []
    },
    {
      "cell_type": "code",
      "metadata": {
        "id": "ksHP0_PTbWur",
        "colab": {
          "base_uri": "https://localhost:8080/",
          "height": 613
        },
        "outputId": "96b804c3-c039-4a11-efec-b4b060b4cdf5"
      },
      "source": [
        "#~~ grader-ignore:\n",
        "coefficients = get_coefficients(lasso_model, X)\n",
        "coefficients\n",
        "#~~ /grader-ignore"
      ],
      "execution_count": null,
      "outputs": [
        {
          "output_type": "execute_result",
          "data": {
            "text/plain": [
              "               label       coeff\n",
              "0   days_elec_pminus   -1.225788\n",
              "1         bin_before -269.893518\n",
              "2         medium_bin  941.651826\n",
              "3            impress    0.056202\n",
              "4              spend    0.066874\n",
              "5              toxic    0.000000\n",
              "6           sevtoxic    0.000000\n",
              "7           idattack -375.601403\n",
              "8             insult    0.000000\n",
              "9            profane    0.000000\n",
              "10            threat    0.000000\n",
              "11            sexexp  140.941813\n",
              "12             flirt    0.000000\n",
              "13          a_author    0.000000\n",
              "14       a_commentor    0.000000\n",
              "15             incoh -657.511985\n",
              "16            inflam    0.000000\n",
              "17           obscene  322.484203"
            ],
            "text/html": [
              "\n",
              "  <div id=\"df-3989bb53-4d0f-4a53-b78d-5d8f5610f4de\">\n",
              "    <div class=\"colab-df-container\">\n",
              "      <div>\n",
              "<style scoped>\n",
              "    .dataframe tbody tr th:only-of-type {\n",
              "        vertical-align: middle;\n",
              "    }\n",
              "\n",
              "    .dataframe tbody tr th {\n",
              "        vertical-align: top;\n",
              "    }\n",
              "\n",
              "    .dataframe thead th {\n",
              "        text-align: right;\n",
              "    }\n",
              "</style>\n",
              "<table border=\"1\" class=\"dataframe\">\n",
              "  <thead>\n",
              "    <tr style=\"text-align: right;\">\n",
              "      <th></th>\n",
              "      <th>label</th>\n",
              "      <th>coeff</th>\n",
              "    </tr>\n",
              "  </thead>\n",
              "  <tbody>\n",
              "    <tr>\n",
              "      <th>0</th>\n",
              "      <td>days_elec_pminus</td>\n",
              "      <td>-1.225788</td>\n",
              "    </tr>\n",
              "    <tr>\n",
              "      <th>1</th>\n",
              "      <td>bin_before</td>\n",
              "      <td>-269.893518</td>\n",
              "    </tr>\n",
              "    <tr>\n",
              "      <th>2</th>\n",
              "      <td>medium_bin</td>\n",
              "      <td>941.651826</td>\n",
              "    </tr>\n",
              "    <tr>\n",
              "      <th>3</th>\n",
              "      <td>impress</td>\n",
              "      <td>0.056202</td>\n",
              "    </tr>\n",
              "    <tr>\n",
              "      <th>4</th>\n",
              "      <td>spend</td>\n",
              "      <td>0.066874</td>\n",
              "    </tr>\n",
              "    <tr>\n",
              "      <th>5</th>\n",
              "      <td>toxic</td>\n",
              "      <td>0.000000</td>\n",
              "    </tr>\n",
              "    <tr>\n",
              "      <th>6</th>\n",
              "      <td>sevtoxic</td>\n",
              "      <td>0.000000</td>\n",
              "    </tr>\n",
              "    <tr>\n",
              "      <th>7</th>\n",
              "      <td>idattack</td>\n",
              "      <td>-375.601403</td>\n",
              "    </tr>\n",
              "    <tr>\n",
              "      <th>8</th>\n",
              "      <td>insult</td>\n",
              "      <td>0.000000</td>\n",
              "    </tr>\n",
              "    <tr>\n",
              "      <th>9</th>\n",
              "      <td>profane</td>\n",
              "      <td>0.000000</td>\n",
              "    </tr>\n",
              "    <tr>\n",
              "      <th>10</th>\n",
              "      <td>threat</td>\n",
              "      <td>0.000000</td>\n",
              "    </tr>\n",
              "    <tr>\n",
              "      <th>11</th>\n",
              "      <td>sexexp</td>\n",
              "      <td>140.941813</td>\n",
              "    </tr>\n",
              "    <tr>\n",
              "      <th>12</th>\n",
              "      <td>flirt</td>\n",
              "      <td>0.000000</td>\n",
              "    </tr>\n",
              "    <tr>\n",
              "      <th>13</th>\n",
              "      <td>a_author</td>\n",
              "      <td>0.000000</td>\n",
              "    </tr>\n",
              "    <tr>\n",
              "      <th>14</th>\n",
              "      <td>a_commentor</td>\n",
              "      <td>0.000000</td>\n",
              "    </tr>\n",
              "    <tr>\n",
              "      <th>15</th>\n",
              "      <td>incoh</td>\n",
              "      <td>-657.511985</td>\n",
              "    </tr>\n",
              "    <tr>\n",
              "      <th>16</th>\n",
              "      <td>inflam</td>\n",
              "      <td>0.000000</td>\n",
              "    </tr>\n",
              "    <tr>\n",
              "      <th>17</th>\n",
              "      <td>obscene</td>\n",
              "      <td>322.484203</td>\n",
              "    </tr>\n",
              "  </tbody>\n",
              "</table>\n",
              "</div>\n",
              "      <button class=\"colab-df-convert\" onclick=\"convertToInteractive('df-3989bb53-4d0f-4a53-b78d-5d8f5610f4de')\"\n",
              "              title=\"Convert this dataframe to an interactive table.\"\n",
              "              style=\"display:none;\">\n",
              "        \n",
              "  <svg xmlns=\"http://www.w3.org/2000/svg\" height=\"24px\"viewBox=\"0 0 24 24\"\n",
              "       width=\"24px\">\n",
              "    <path d=\"M0 0h24v24H0V0z\" fill=\"none\"/>\n",
              "    <path d=\"M18.56 5.44l.94 2.06.94-2.06 2.06-.94-2.06-.94-.94-2.06-.94 2.06-2.06.94zm-11 1L8.5 8.5l.94-2.06 2.06-.94-2.06-.94L8.5 2.5l-.94 2.06-2.06.94zm10 10l.94 2.06.94-2.06 2.06-.94-2.06-.94-.94-2.06-.94 2.06-2.06.94z\"/><path d=\"M17.41 7.96l-1.37-1.37c-.4-.4-.92-.59-1.43-.59-.52 0-1.04.2-1.43.59L10.3 9.45l-7.72 7.72c-.78.78-.78 2.05 0 2.83L4 21.41c.39.39.9.59 1.41.59.51 0 1.02-.2 1.41-.59l7.78-7.78 2.81-2.81c.8-.78.8-2.07 0-2.86zM5.41 20L4 18.59l7.72-7.72 1.47 1.35L5.41 20z\"/>\n",
              "  </svg>\n",
              "      </button>\n",
              "      \n",
              "  <style>\n",
              "    .colab-df-container {\n",
              "      display:flex;\n",
              "      flex-wrap:wrap;\n",
              "      gap: 12px;\n",
              "    }\n",
              "\n",
              "    .colab-df-convert {\n",
              "      background-color: #E8F0FE;\n",
              "      border: none;\n",
              "      border-radius: 50%;\n",
              "      cursor: pointer;\n",
              "      display: none;\n",
              "      fill: #1967D2;\n",
              "      height: 32px;\n",
              "      padding: 0 0 0 0;\n",
              "      width: 32px;\n",
              "    }\n",
              "\n",
              "    .colab-df-convert:hover {\n",
              "      background-color: #E2EBFA;\n",
              "      box-shadow: 0px 1px 2px rgba(60, 64, 67, 0.3), 0px 1px 3px 1px rgba(60, 64, 67, 0.15);\n",
              "      fill: #174EA6;\n",
              "    }\n",
              "\n",
              "    [theme=dark] .colab-df-convert {\n",
              "      background-color: #3B4455;\n",
              "      fill: #D2E3FC;\n",
              "    }\n",
              "\n",
              "    [theme=dark] .colab-df-convert:hover {\n",
              "      background-color: #434B5C;\n",
              "      box-shadow: 0px 1px 3px 1px rgba(0, 0, 0, 0.15);\n",
              "      filter: drop-shadow(0px 1px 2px rgba(0, 0, 0, 0.3));\n",
              "      fill: #FFFFFF;\n",
              "    }\n",
              "  </style>\n",
              "\n",
              "      <script>\n",
              "        const buttonEl =\n",
              "          document.querySelector('#df-3989bb53-4d0f-4a53-b78d-5d8f5610f4de button.colab-df-convert');\n",
              "        buttonEl.style.display =\n",
              "          google.colab.kernel.accessAllowed ? 'block' : 'none';\n",
              "\n",
              "        async function convertToInteractive(key) {\n",
              "          const element = document.querySelector('#df-3989bb53-4d0f-4a53-b78d-5d8f5610f4de');\n",
              "          const dataTable =\n",
              "            await google.colab.kernel.invokeFunction('convertToInteractive',\n",
              "                                                     [key], {});\n",
              "          if (!dataTable) return;\n",
              "\n",
              "          const docLinkHtml = 'Like what you see? Visit the ' +\n",
              "            '<a target=\"_blank\" href=https://colab.research.google.com/notebooks/data_table.ipynb>data table notebook</a>'\n",
              "            + ' to learn more about interactive tables.';\n",
              "          element.innerHTML = '';\n",
              "          dataTable['output_type'] = 'display_data';\n",
              "          await google.colab.output.renderOutput(dataTable, element);\n",
              "          const docLink = document.createElement('div');\n",
              "          docLink.innerHTML = docLinkHtml;\n",
              "          element.appendChild(docLink);\n",
              "        }\n",
              "      </script>\n",
              "    </div>\n",
              "  </div>\n",
              "  "
            ]
          },
          "metadata": {},
          "execution_count": 112
        }
      ]
    },
    {
      "cell_type": "markdown",
      "metadata": {
        "id": "vLjW0aJ1cXgu"
      },
      "source": [
        "## Filter_coefficients\n",
        "\n",
        "Recall that LASSO models automatically set coefficients to 0 when they explain no significant variance. Return a filtered version the coefficients df that have no 0 coefficients"
      ]
    },
    {
      "cell_type": "code",
      "metadata": {
        "id": "5ukHmRauUvw1"
      },
      "source": [
        "def filter_coefficients(coeff_frame):\n",
        "    \"\"\"Returns a filtered version of DataFrame coeff_frame which\n",
        "    contains only non-zero rows.\n",
        "\n",
        "    coeff_frame is a DataFrame containing a column named \"coeff\".\n",
        "    \"\"\"\n",
        "    coef_fil = coeff_frame[coeff_frame['coeff'] != 0]\n",
        "    return coef_fil"
      ],
      "execution_count": null,
      "outputs": []
    },
    {
      "cell_type": "code",
      "metadata": {
        "id": "WAHJClQZ_ur8",
        "colab": {
          "base_uri": "https://localhost:8080/",
          "height": 331
        },
        "outputId": "ee27db30-f953-4c35-b026-a4dba9b6aa75"
      },
      "source": [
        "#~~ grader-ignore:\n",
        "coefficients_no_zeros = filter_coefficients(coefficients)\n",
        "coefficients_no_zeros\n",
        "#~~ /grader-ignore"
      ],
      "execution_count": null,
      "outputs": [
        {
          "output_type": "execute_result",
          "data": {
            "text/plain": [
              "               label       coeff\n",
              "0   days_elec_pminus   -1.225788\n",
              "1         bin_before -269.893518\n",
              "2         medium_bin  941.651826\n",
              "3            impress    0.056202\n",
              "4              spend    0.066874\n",
              "7           idattack -375.601403\n",
              "11            sexexp  140.941813\n",
              "15             incoh -657.511985\n",
              "17           obscene  322.484203"
            ],
            "text/html": [
              "\n",
              "  <div id=\"df-8e250cde-9a5b-4245-8d49-adea61028981\">\n",
              "    <div class=\"colab-df-container\">\n",
              "      <div>\n",
              "<style scoped>\n",
              "    .dataframe tbody tr th:only-of-type {\n",
              "        vertical-align: middle;\n",
              "    }\n",
              "\n",
              "    .dataframe tbody tr th {\n",
              "        vertical-align: top;\n",
              "    }\n",
              "\n",
              "    .dataframe thead th {\n",
              "        text-align: right;\n",
              "    }\n",
              "</style>\n",
              "<table border=\"1\" class=\"dataframe\">\n",
              "  <thead>\n",
              "    <tr style=\"text-align: right;\">\n",
              "      <th></th>\n",
              "      <th>label</th>\n",
              "      <th>coeff</th>\n",
              "    </tr>\n",
              "  </thead>\n",
              "  <tbody>\n",
              "    <tr>\n",
              "      <th>0</th>\n",
              "      <td>days_elec_pminus</td>\n",
              "      <td>-1.225788</td>\n",
              "    </tr>\n",
              "    <tr>\n",
              "      <th>1</th>\n",
              "      <td>bin_before</td>\n",
              "      <td>-269.893518</td>\n",
              "    </tr>\n",
              "    <tr>\n",
              "      <th>2</th>\n",
              "      <td>medium_bin</td>\n",
              "      <td>941.651826</td>\n",
              "    </tr>\n",
              "    <tr>\n",
              "      <th>3</th>\n",
              "      <td>impress</td>\n",
              "      <td>0.056202</td>\n",
              "    </tr>\n",
              "    <tr>\n",
              "      <th>4</th>\n",
              "      <td>spend</td>\n",
              "      <td>0.066874</td>\n",
              "    </tr>\n",
              "    <tr>\n",
              "      <th>7</th>\n",
              "      <td>idattack</td>\n",
              "      <td>-375.601403</td>\n",
              "    </tr>\n",
              "    <tr>\n",
              "      <th>11</th>\n",
              "      <td>sexexp</td>\n",
              "      <td>140.941813</td>\n",
              "    </tr>\n",
              "    <tr>\n",
              "      <th>15</th>\n",
              "      <td>incoh</td>\n",
              "      <td>-657.511985</td>\n",
              "    </tr>\n",
              "    <tr>\n",
              "      <th>17</th>\n",
              "      <td>obscene</td>\n",
              "      <td>322.484203</td>\n",
              "    </tr>\n",
              "  </tbody>\n",
              "</table>\n",
              "</div>\n",
              "      <button class=\"colab-df-convert\" onclick=\"convertToInteractive('df-8e250cde-9a5b-4245-8d49-adea61028981')\"\n",
              "              title=\"Convert this dataframe to an interactive table.\"\n",
              "              style=\"display:none;\">\n",
              "        \n",
              "  <svg xmlns=\"http://www.w3.org/2000/svg\" height=\"24px\"viewBox=\"0 0 24 24\"\n",
              "       width=\"24px\">\n",
              "    <path d=\"M0 0h24v24H0V0z\" fill=\"none\"/>\n",
              "    <path d=\"M18.56 5.44l.94 2.06.94-2.06 2.06-.94-2.06-.94-.94-2.06-.94 2.06-2.06.94zm-11 1L8.5 8.5l.94-2.06 2.06-.94-2.06-.94L8.5 2.5l-.94 2.06-2.06.94zm10 10l.94 2.06.94-2.06 2.06-.94-2.06-.94-.94-2.06-.94 2.06-2.06.94z\"/><path d=\"M17.41 7.96l-1.37-1.37c-.4-.4-.92-.59-1.43-.59-.52 0-1.04.2-1.43.59L10.3 9.45l-7.72 7.72c-.78.78-.78 2.05 0 2.83L4 21.41c.39.39.9.59 1.41.59.51 0 1.02-.2 1.41-.59l7.78-7.78 2.81-2.81c.8-.78.8-2.07 0-2.86zM5.41 20L4 18.59l7.72-7.72 1.47 1.35L5.41 20z\"/>\n",
              "  </svg>\n",
              "      </button>\n",
              "      \n",
              "  <style>\n",
              "    .colab-df-container {\n",
              "      display:flex;\n",
              "      flex-wrap:wrap;\n",
              "      gap: 12px;\n",
              "    }\n",
              "\n",
              "    .colab-df-convert {\n",
              "      background-color: #E8F0FE;\n",
              "      border: none;\n",
              "      border-radius: 50%;\n",
              "      cursor: pointer;\n",
              "      display: none;\n",
              "      fill: #1967D2;\n",
              "      height: 32px;\n",
              "      padding: 0 0 0 0;\n",
              "      width: 32px;\n",
              "    }\n",
              "\n",
              "    .colab-df-convert:hover {\n",
              "      background-color: #E2EBFA;\n",
              "      box-shadow: 0px 1px 2px rgba(60, 64, 67, 0.3), 0px 1px 3px 1px rgba(60, 64, 67, 0.15);\n",
              "      fill: #174EA6;\n",
              "    }\n",
              "\n",
              "    [theme=dark] .colab-df-convert {\n",
              "      background-color: #3B4455;\n",
              "      fill: #D2E3FC;\n",
              "    }\n",
              "\n",
              "    [theme=dark] .colab-df-convert:hover {\n",
              "      background-color: #434B5C;\n",
              "      box-shadow: 0px 1px 3px 1px rgba(0, 0, 0, 0.15);\n",
              "      filter: drop-shadow(0px 1px 2px rgba(0, 0, 0, 0.3));\n",
              "      fill: #FFFFFF;\n",
              "    }\n",
              "  </style>\n",
              "\n",
              "      <script>\n",
              "        const buttonEl =\n",
              "          document.querySelector('#df-8e250cde-9a5b-4245-8d49-adea61028981 button.colab-df-convert');\n",
              "        buttonEl.style.display =\n",
              "          google.colab.kernel.accessAllowed ? 'block' : 'none';\n",
              "\n",
              "        async function convertToInteractive(key) {\n",
              "          const element = document.querySelector('#df-8e250cde-9a5b-4245-8d49-adea61028981');\n",
              "          const dataTable =\n",
              "            await google.colab.kernel.invokeFunction('convertToInteractive',\n",
              "                                                     [key], {});\n",
              "          if (!dataTable) return;\n",
              "\n",
              "          const docLinkHtml = 'Like what you see? Visit the ' +\n",
              "            '<a target=\"_blank\" href=https://colab.research.google.com/notebooks/data_table.ipynb>data table notebook</a>'\n",
              "            + ' to learn more about interactive tables.';\n",
              "          element.innerHTML = '';\n",
              "          dataTable['output_type'] = 'display_data';\n",
              "          await google.colab.output.renderOutput(dataTable, element);\n",
              "          const docLink = document.createElement('div');\n",
              "          docLink.innerHTML = docLinkHtml;\n",
              "          element.appendChild(docLink);\n",
              "        }\n",
              "      </script>\n",
              "    </div>\n",
              "  </div>\n",
              "  "
            ]
          },
          "metadata": {},
          "execution_count": 114
        }
      ]
    },
    {
      "cell_type": "markdown",
      "metadata": {
        "id": "et5sQCPdB5Lu"
      },
      "source": [
        "**Sanity check:** You should now have a dataframe of label, coeff with all coefficient values being non-zero.\n",
        "\n",
        "The following should be True:"
      ]
    },
    {
      "cell_type": "code",
      "metadata": {
        "id": "Ruta_dGSCKrm",
        "colab": {
          "base_uri": "https://localhost:8080/"
        },
        "outputId": "4ce20fbe-9d6e-4592-f664-8c1914bb8dd7"
      },
      "source": [
        "#~~ grader-ignore:\n",
        "len(coefficients_no_zeros) == 9\n",
        "#~~ /grader-ignore"
      ],
      "execution_count": null,
      "outputs": [
        {
          "output_type": "execute_result",
          "data": {
            "text/plain": [
              "True"
            ]
          },
          "metadata": {},
          "execution_count": 115
        }
      ]
    },
    {
      "cell_type": "markdown",
      "metadata": {
        "id": "1fwiwxCm-LO_"
      },
      "source": [
        "## Top_pos_coeffs\n",
        "\n",
        "Sort filter_coefficients and return the top three largest, positive coefficients as a dataframe\n",
        "\n"
      ]
    },
    {
      "cell_type": "code",
      "metadata": {
        "id": "9ru0R8I5-XP0"
      },
      "source": [
        "def top_pos_coeffs(coeff_frame, n):\n",
        "    \"\"\"Returns a DataFrame containing only the top n rows by coefficient.\n",
        "\n",
        "    coeff_frame is a DataFrame containing the column \"coeff\".\n",
        "    \"\"\"\n",
        "    top = coeff_frame.nlargest(n, 'coeff')\n",
        "    return top"
      ],
      "execution_count": null,
      "outputs": []
    },
    {
      "cell_type": "code",
      "metadata": {
        "id": "KXZGgHYAd2S3",
        "colab": {
          "base_uri": "https://localhost:8080/",
          "height": 143
        },
        "outputId": "d6aa0953-ea32-4da7-ad94-4a6bf850227b"
      },
      "source": [
        "#~~ grader-ignore:\n",
        "top_pos_coeffs(coefficients_no_zeros, 3)\n",
        "#~~ /grader-ignore"
      ],
      "execution_count": null,
      "outputs": [
        {
          "output_type": "execute_result",
          "data": {
            "text/plain": [
              "         label       coeff\n",
              "2   medium_bin  941.651826\n",
              "17     obscene  322.484203\n",
              "11      sexexp  140.941813"
            ],
            "text/html": [
              "\n",
              "  <div id=\"df-b6024311-2cc2-4d89-b07e-02cc82b8badd\">\n",
              "    <div class=\"colab-df-container\">\n",
              "      <div>\n",
              "<style scoped>\n",
              "    .dataframe tbody tr th:only-of-type {\n",
              "        vertical-align: middle;\n",
              "    }\n",
              "\n",
              "    .dataframe tbody tr th {\n",
              "        vertical-align: top;\n",
              "    }\n",
              "\n",
              "    .dataframe thead th {\n",
              "        text-align: right;\n",
              "    }\n",
              "</style>\n",
              "<table border=\"1\" class=\"dataframe\">\n",
              "  <thead>\n",
              "    <tr style=\"text-align: right;\">\n",
              "      <th></th>\n",
              "      <th>label</th>\n",
              "      <th>coeff</th>\n",
              "    </tr>\n",
              "  </thead>\n",
              "  <tbody>\n",
              "    <tr>\n",
              "      <th>2</th>\n",
              "      <td>medium_bin</td>\n",
              "      <td>941.651826</td>\n",
              "    </tr>\n",
              "    <tr>\n",
              "      <th>17</th>\n",
              "      <td>obscene</td>\n",
              "      <td>322.484203</td>\n",
              "    </tr>\n",
              "    <tr>\n",
              "      <th>11</th>\n",
              "      <td>sexexp</td>\n",
              "      <td>140.941813</td>\n",
              "    </tr>\n",
              "  </tbody>\n",
              "</table>\n",
              "</div>\n",
              "      <button class=\"colab-df-convert\" onclick=\"convertToInteractive('df-b6024311-2cc2-4d89-b07e-02cc82b8badd')\"\n",
              "              title=\"Convert this dataframe to an interactive table.\"\n",
              "              style=\"display:none;\">\n",
              "        \n",
              "  <svg xmlns=\"http://www.w3.org/2000/svg\" height=\"24px\"viewBox=\"0 0 24 24\"\n",
              "       width=\"24px\">\n",
              "    <path d=\"M0 0h24v24H0V0z\" fill=\"none\"/>\n",
              "    <path d=\"M18.56 5.44l.94 2.06.94-2.06 2.06-.94-2.06-.94-.94-2.06-.94 2.06-2.06.94zm-11 1L8.5 8.5l.94-2.06 2.06-.94-2.06-.94L8.5 2.5l-.94 2.06-2.06.94zm10 10l.94 2.06.94-2.06 2.06-.94-2.06-.94-.94-2.06-.94 2.06-2.06.94z\"/><path d=\"M17.41 7.96l-1.37-1.37c-.4-.4-.92-.59-1.43-.59-.52 0-1.04.2-1.43.59L10.3 9.45l-7.72 7.72c-.78.78-.78 2.05 0 2.83L4 21.41c.39.39.9.59 1.41.59.51 0 1.02-.2 1.41-.59l7.78-7.78 2.81-2.81c.8-.78.8-2.07 0-2.86zM5.41 20L4 18.59l7.72-7.72 1.47 1.35L5.41 20z\"/>\n",
              "  </svg>\n",
              "      </button>\n",
              "      \n",
              "  <style>\n",
              "    .colab-df-container {\n",
              "      display:flex;\n",
              "      flex-wrap:wrap;\n",
              "      gap: 12px;\n",
              "    }\n",
              "\n",
              "    .colab-df-convert {\n",
              "      background-color: #E8F0FE;\n",
              "      border: none;\n",
              "      border-radius: 50%;\n",
              "      cursor: pointer;\n",
              "      display: none;\n",
              "      fill: #1967D2;\n",
              "      height: 32px;\n",
              "      padding: 0 0 0 0;\n",
              "      width: 32px;\n",
              "    }\n",
              "\n",
              "    .colab-df-convert:hover {\n",
              "      background-color: #E2EBFA;\n",
              "      box-shadow: 0px 1px 2px rgba(60, 64, 67, 0.3), 0px 1px 3px 1px rgba(60, 64, 67, 0.15);\n",
              "      fill: #174EA6;\n",
              "    }\n",
              "\n",
              "    [theme=dark] .colab-df-convert {\n",
              "      background-color: #3B4455;\n",
              "      fill: #D2E3FC;\n",
              "    }\n",
              "\n",
              "    [theme=dark] .colab-df-convert:hover {\n",
              "      background-color: #434B5C;\n",
              "      box-shadow: 0px 1px 3px 1px rgba(0, 0, 0, 0.15);\n",
              "      filter: drop-shadow(0px 1px 2px rgba(0, 0, 0, 0.3));\n",
              "      fill: #FFFFFF;\n",
              "    }\n",
              "  </style>\n",
              "\n",
              "      <script>\n",
              "        const buttonEl =\n",
              "          document.querySelector('#df-b6024311-2cc2-4d89-b07e-02cc82b8badd button.colab-df-convert');\n",
              "        buttonEl.style.display =\n",
              "          google.colab.kernel.accessAllowed ? 'block' : 'none';\n",
              "\n",
              "        async function convertToInteractive(key) {\n",
              "          const element = document.querySelector('#df-b6024311-2cc2-4d89-b07e-02cc82b8badd');\n",
              "          const dataTable =\n",
              "            await google.colab.kernel.invokeFunction('convertToInteractive',\n",
              "                                                     [key], {});\n",
              "          if (!dataTable) return;\n",
              "\n",
              "          const docLinkHtml = 'Like what you see? Visit the ' +\n",
              "            '<a target=\"_blank\" href=https://colab.research.google.com/notebooks/data_table.ipynb>data table notebook</a>'\n",
              "            + ' to learn more about interactive tables.';\n",
              "          element.innerHTML = '';\n",
              "          dataTable['output_type'] = 'display_data';\n",
              "          await google.colab.output.renderOutput(dataTable, element);\n",
              "          const docLink = document.createElement('div');\n",
              "          docLink.innerHTML = docLinkHtml;\n",
              "          element.appendChild(docLink);\n",
              "        }\n",
              "      </script>\n",
              "    </div>\n",
              "  </div>\n",
              "  "
            ]
          },
          "metadata": {},
          "execution_count": 118
        }
      ]
    },
    {
      "cell_type": "markdown",
      "metadata": {
        "id": "6nmzHPRfAnRF"
      },
      "source": [
        "## Top_neg_coeffs\n",
        "\n",
        "Implement a function that returns a frame of the top n **negative** coefficients, which is to say the **most negative** of the values.\n",
        "\n",
        "This function will be used to sort coefficients_no_zeros and return the strongest negative coefficient as a dataframe"
      ]
    },
    {
      "cell_type": "code",
      "metadata": {
        "id": "MIZ5hMSYAmsM"
      },
      "source": [
        "def top_neg_coeffs(coeff_frame, n):\n",
        "    \"\"\"Returns a DataFrame containing only the smallest n rows by coefficient.\n",
        "\n",
        "    coeff_frame is a DataFrame containing the column \"coeff\".\n",
        "    \"\"\"\n",
        "    neg = coeff_frame.nsmallest(n, 'coeff')\n",
        "    return neg"
      ],
      "execution_count": null,
      "outputs": []
    },
    {
      "cell_type": "code",
      "metadata": {
        "id": "YFOAYqc8-avS",
        "colab": {
          "base_uri": "https://localhost:8080/",
          "height": 80
        },
        "outputId": "b4a773c3-2474-48ab-eedf-a4931dfc87dc"
      },
      "source": [
        "#~~ grader-ignore:\n",
        "top_neg_coeffs(coefficients_no_zeros, 1)\n",
        "#~~ /grader-ignore"
      ],
      "execution_count": null,
      "outputs": [
        {
          "output_type": "execute_result",
          "data": {
            "text/plain": [
              "    label       coeff\n",
              "15  incoh -657.511985"
            ],
            "text/html": [
              "\n",
              "  <div id=\"df-4804897a-e4ca-445d-b208-6fbb4abf45de\">\n",
              "    <div class=\"colab-df-container\">\n",
              "      <div>\n",
              "<style scoped>\n",
              "    .dataframe tbody tr th:only-of-type {\n",
              "        vertical-align: middle;\n",
              "    }\n",
              "\n",
              "    .dataframe tbody tr th {\n",
              "        vertical-align: top;\n",
              "    }\n",
              "\n",
              "    .dataframe thead th {\n",
              "        text-align: right;\n",
              "    }\n",
              "</style>\n",
              "<table border=\"1\" class=\"dataframe\">\n",
              "  <thead>\n",
              "    <tr style=\"text-align: right;\">\n",
              "      <th></th>\n",
              "      <th>label</th>\n",
              "      <th>coeff</th>\n",
              "    </tr>\n",
              "  </thead>\n",
              "  <tbody>\n",
              "    <tr>\n",
              "      <th>15</th>\n",
              "      <td>incoh</td>\n",
              "      <td>-657.511985</td>\n",
              "    </tr>\n",
              "  </tbody>\n",
              "</table>\n",
              "</div>\n",
              "      <button class=\"colab-df-convert\" onclick=\"convertToInteractive('df-4804897a-e4ca-445d-b208-6fbb4abf45de')\"\n",
              "              title=\"Convert this dataframe to an interactive table.\"\n",
              "              style=\"display:none;\">\n",
              "        \n",
              "  <svg xmlns=\"http://www.w3.org/2000/svg\" height=\"24px\"viewBox=\"0 0 24 24\"\n",
              "       width=\"24px\">\n",
              "    <path d=\"M0 0h24v24H0V0z\" fill=\"none\"/>\n",
              "    <path d=\"M18.56 5.44l.94 2.06.94-2.06 2.06-.94-2.06-.94-.94-2.06-.94 2.06-2.06.94zm-11 1L8.5 8.5l.94-2.06 2.06-.94-2.06-.94L8.5 2.5l-.94 2.06-2.06.94zm10 10l.94 2.06.94-2.06 2.06-.94-2.06-.94-.94-2.06-.94 2.06-2.06.94z\"/><path d=\"M17.41 7.96l-1.37-1.37c-.4-.4-.92-.59-1.43-.59-.52 0-1.04.2-1.43.59L10.3 9.45l-7.72 7.72c-.78.78-.78 2.05 0 2.83L4 21.41c.39.39.9.59 1.41.59.51 0 1.02-.2 1.41-.59l7.78-7.78 2.81-2.81c.8-.78.8-2.07 0-2.86zM5.41 20L4 18.59l7.72-7.72 1.47 1.35L5.41 20z\"/>\n",
              "  </svg>\n",
              "      </button>\n",
              "      \n",
              "  <style>\n",
              "    .colab-df-container {\n",
              "      display:flex;\n",
              "      flex-wrap:wrap;\n",
              "      gap: 12px;\n",
              "    }\n",
              "\n",
              "    .colab-df-convert {\n",
              "      background-color: #E8F0FE;\n",
              "      border: none;\n",
              "      border-radius: 50%;\n",
              "      cursor: pointer;\n",
              "      display: none;\n",
              "      fill: #1967D2;\n",
              "      height: 32px;\n",
              "      padding: 0 0 0 0;\n",
              "      width: 32px;\n",
              "    }\n",
              "\n",
              "    .colab-df-convert:hover {\n",
              "      background-color: #E2EBFA;\n",
              "      box-shadow: 0px 1px 2px rgba(60, 64, 67, 0.3), 0px 1px 3px 1px rgba(60, 64, 67, 0.15);\n",
              "      fill: #174EA6;\n",
              "    }\n",
              "\n",
              "    [theme=dark] .colab-df-convert {\n",
              "      background-color: #3B4455;\n",
              "      fill: #D2E3FC;\n",
              "    }\n",
              "\n",
              "    [theme=dark] .colab-df-convert:hover {\n",
              "      background-color: #434B5C;\n",
              "      box-shadow: 0px 1px 3px 1px rgba(0, 0, 0, 0.15);\n",
              "      filter: drop-shadow(0px 1px 2px rgba(0, 0, 0, 0.3));\n",
              "      fill: #FFFFFF;\n",
              "    }\n",
              "  </style>\n",
              "\n",
              "      <script>\n",
              "        const buttonEl =\n",
              "          document.querySelector('#df-4804897a-e4ca-445d-b208-6fbb4abf45de button.colab-df-convert');\n",
              "        buttonEl.style.display =\n",
              "          google.colab.kernel.accessAllowed ? 'block' : 'none';\n",
              "\n",
              "        async function convertToInteractive(key) {\n",
              "          const element = document.querySelector('#df-4804897a-e4ca-445d-b208-6fbb4abf45de');\n",
              "          const dataTable =\n",
              "            await google.colab.kernel.invokeFunction('convertToInteractive',\n",
              "                                                     [key], {});\n",
              "          if (!dataTable) return;\n",
              "\n",
              "          const docLinkHtml = 'Like what you see? Visit the ' +\n",
              "            '<a target=\"_blank\" href=https://colab.research.google.com/notebooks/data_table.ipynb>data table notebook</a>'\n",
              "            + ' to learn more about interactive tables.';\n",
              "          element.innerHTML = '';\n",
              "          dataTable['output_type'] = 'display_data';\n",
              "          await google.colab.output.renderOutput(dataTable, element);\n",
              "          const docLink = document.createElement('div');\n",
              "          docLink.innerHTML = docLinkHtml;\n",
              "          element.appendChild(docLink);\n",
              "        }\n",
              "      </script>\n",
              "    </div>\n",
              "  </div>\n",
              "  "
            ]
          },
          "metadata": {},
          "execution_count": 120
        }
      ]
    },
    {
      "cell_type": "markdown",
      "metadata": {
        "id": "7PfazmutEVDe"
      },
      "source": [
        "**Sanity check:** You should see the resulting single row with label and coefficient value of the coefficient that is the **most negatiave** of all the coefficients."
      ]
    },
    {
      "cell_type": "markdown",
      "metadata": {
        "id": "xIx2T4jOfLYq"
      },
      "source": [
        "## Predict_target\n",
        "\n",
        "Calculate predicted values for both the training and test set. Return a numpy array for each.\n",
        "\n",
        "This function will be used to predict clicks on the data, since that is what\n",
        "we trained our model to."
      ]
    },
    {
      "cell_type": "code",
      "metadata": {
        "id": "r4YVFJqRfTiG"
      },
      "source": [
        "def predict_target(X_train, X_test, model):\n",
        "    \"\"\"Returns a tuple of the prediction arrays from the provided model\n",
        "    for the training and test DataFrames provided.\n",
        "\n",
        "    model should be a previously fit model with a `predict` method. This\n",
        "    function should return a tuple containing the prediction on the training\n",
        "    data, and the prediction on the test data.\n",
        "    \"\"\"\n",
        "    y_train_pred = model.predict(X_train)\n",
        "    y_test_pred = model.predict(X_test)\n",
        "    return y_train_pred, y_test_pred"
      ],
      "execution_count": null,
      "outputs": []
    },
    {
      "cell_type": "code",
      "metadata": {
        "id": "gnT3DU-Ofsht"
      },
      "source": [
        "#~~ grader-ignore:\n",
        "y_pred_clicks_train, y_pred_clicks_test = predict_target(X_train, X_test, lasso_model)\n",
        "#~~ /grader-ignore"
      ],
      "execution_count": null,
      "outputs": []
    },
    {
      "cell_type": "markdown",
      "metadata": {
        "id": "f1x8bSJXdqYh"
      },
      "source": [
        "## Get_error_metrics\n",
        "\n",
        "Return mean squared error and r-squared metrics using `mean_squared_error` and `r2_score` that have already been imported from sklearn metrics.\n",
        "\n",
        "This function will be used to report error metrics on both the training and the testing data."
      ]
    },
    {
      "cell_type": "code",
      "metadata": {
        "id": "kMx4kxSpd0Xr"
      },
      "source": [
        "def get_error_metrics(target, pred):\n",
        "    \"\"\"Return mean-squared and r-squared errors for the given data.\n",
        "\n",
        "    Returns a tuple of mse, r2 errors between the target and pred datasets.\n",
        "    \"\"\"\n",
        "    mse = mean_squared_error(target, pred)\n",
        "    r2 = r2_score(target, pred)\n",
        "    return mse, r2"
      ],
      "execution_count": null,
      "outputs": []
    },
    {
      "cell_type": "code",
      "metadata": {
        "id": "bx1WY3mYH55A",
        "colab": {
          "base_uri": "https://localhost:8080/"
        },
        "outputId": "dc38c607-0d61-4f72-e97a-7a72be579531"
      },
      "source": [
        "#~~ grader-ignore:\n",
        "train_mse, train_r2 = get_error_metrics(y_train, y_pred_clicks_train)\n",
        "train_mse, train_r2\n",
        "#~~ /grader-ignore"
      ],
      "execution_count": null,
      "outputs": [
        {
          "output_type": "execute_result",
          "data": {
            "text/plain": [
              "(2773619.0581228794, 0.8211896632138826)"
            ]
          },
          "metadata": {},
          "execution_count": 124
        }
      ]
    },
    {
      "cell_type": "code",
      "metadata": {
        "id": "anDFY8WqHxVS",
        "colab": {
          "base_uri": "https://localhost:8080/"
        },
        "outputId": "f035cc00-27ec-4c72-828d-392c84d5bc20"
      },
      "source": [
        "#~~ grader-ignore:\n",
        "test_mse, test_r2 = get_error_metrics(y_test, y_pred_clicks_test)\n",
        "test_mse, test_r2\n",
        "#~~ /grader-ignore"
      ],
      "execution_count": null,
      "outputs": [
        {
          "output_type": "execute_result",
          "data": {
            "text/plain": [
              "(1800890.9762832574, 0.8532346917715389)"
            ]
          },
          "metadata": {},
          "execution_count": 125
        }
      ]
    },
    {
      "cell_type": "markdown",
      "metadata": {
        "id": "Bu1C4dIUi_AR"
      },
      "source": [
        "Let's contextualize the mean squared error by inspecting the variance of the clicks variable.\n",
        "\n",
        "## Get_std_dev\n",
        "\n",
        "Calculate the standard deviation for a column in a DataFrame. Create a function that returns the standard deviation, given a pandas dataframe and the column of interest. Use the [Pandas std method](https://pandas.pydata.org/pandas-docs/stable/reference/api/pandas.DataFrame.std.html)\n",
        "\n",
        "This function will be used to calculate the standard deviation of the clicks variable from the final_data dataframe."
      ]
    },
    {
      "cell_type": "code",
      "metadata": {
        "id": "TaQ_lDYEjs4w"
      },
      "source": [
        "def get_std_dev(df, column):\n",
        "    \"\"\"Return the standard deviation of the specified column in\n",
        "    DataFrame df.\n",
        "    \"\"\"\n",
        "    col_series = df.loc[:, column]\n",
        "    return col_series.std()"
      ],
      "execution_count": null,
      "outputs": []
    },
    {
      "cell_type": "code",
      "metadata": {
        "id": "qLUADeOwnjRC",
        "colab": {
          "base_uri": "https://localhost:8080/"
        },
        "outputId": "0d464f09-d72a-41ea-806e-0fec6197b589"
      },
      "source": [
        "#~~ grader-ignore:\n",
        "clicks_std = get_std_dev(final_data, 'clicks')\n",
        "clicks_std\n",
        "#~~ /grader-ignore"
      ],
      "execution_count": null,
      "outputs": [
        {
          "output_type": "execute_result",
          "data": {
            "text/plain": [
              "3856.227668546531"
            ]
          },
          "metadata": {},
          "execution_count": 134
        }
      ]
    },
    {
      "cell_type": "markdown",
      "metadata": {
        "id": "JzKgFc7KlJ-I"
      },
      "source": [
        "## Error_over_std\n",
        "\n",
        "Divide the mean error of the test data over the standard deviation. Take the square root of test_error when making your calcuation (we want mean error, not mean squared error). Use math to calculate the square root."
      ]
    },
    {
      "cell_type": "code",
      "metadata": {
        "id": "ad9gGsUtj6ve"
      },
      "source": [
        "def error_over_std(mse, std):\n",
        "    \"\"\"Returns the ratio of error to standard deviation where\n",
        "    error is the square-root of mse.\n",
        "    \"\"\"\n",
        "    error = math.sqrt(mse)\n",
        "    ratio = error/std\n",
        "    return ratio"
      ],
      "execution_count": 1,
      "outputs": []
    },
    {
      "cell_type": "code",
      "metadata": {
        "id": "vYI1st-dooSe",
        "colab": {
          "base_uri": "https://localhost:8080/"
        },
        "outputId": "20d5880c-ccac-4331-9bf2-3b1d9f25e5f8"
      },
      "source": [
        "#~~ grader-ignore:\n",
        "error_over_std(test_mse, clicks_std)\n",
        "#~~ /grader-ignore"
      ],
      "execution_count": null,
      "outputs": [
        {
          "output_type": "execute_result",
          "data": {
            "text/plain": [
              "0.3480014428665842"
            ]
          },
          "metadata": {},
          "execution_count": 146
        }
      ]
    },
    {
      "cell_type": "markdown",
      "metadata": {
        "id": "-t_dbDtiqDxa"
      },
      "source": [
        "In general, if our test prediction error is within one standard deviation, we can assume our model is fairly precise. \n",
        "\n",
        "## Error_std_ratio_is_under_threshold\n",
        "\n",
        "Build a function that includes all of the code that your previous function for, but instead of returning a ratio, have it return True if this condition is satisfied (return True if the ratio is less than 1)."
      ]
    },
    {
      "cell_type": "code",
      "metadata": {
        "id": "yvSkFHPbqBP1"
      },
      "source": [
        "def error_std_ratio_is_under_threshold(mse, std, threshold=1):\n",
        "    \"\"\"Calculates the ratio of error to standard deviation where\n",
        "    error is the square-root of mse.\n",
        "\n",
        "    Returns True if the resulting calculation is less than the\n",
        "    value of threshold, False otherwise.\n",
        "    \"\"\"\n",
        "    if error_over_std(mse, std) < threshold:\n",
        "      return True\n",
        "    else:\n",
        "      return False"
      ],
      "execution_count": null,
      "outputs": []
    },
    {
      "cell_type": "code",
      "metadata": {
        "id": "dX6DxPIwogFG",
        "colab": {
          "base_uri": "https://localhost:8080/"
        },
        "outputId": "4c2eab83-f765-4837-d438-aaa5b4086052"
      },
      "source": [
        "#~~ grader-ignore:\n",
        "error_std_ratio_is_under_threshold(test_mse, clicks_std)\n",
        "#~~ /grader-ignore"
      ],
      "execution_count": null,
      "outputs": [
        {
          "output_type": "execute_result",
          "data": {
            "text/plain": [
              "True"
            ]
          },
          "metadata": {},
          "execution_count": 148
        }
      ]
    },
    {
      "cell_type": "markdown",
      "metadata": {
        "id": "K-iePG0XnkgL"
      },
      "source": [
        "# Compare Ensemble models"
      ]
    },
    {
      "cell_type": "markdown",
      "metadata": {
        "id": "otSYd8yIsFig"
      },
      "source": [
        "Next, let's compare a host of ensemble regression models and see how they perform. \n",
        "\n",
        "## Ensemble_model_fit_and_eval\n",
        "\n",
        "Create a function that goes through each of the models below and writes the model name, the mean squared error and rsquared for the **test dataset** to pandas dataframe."
      ]
    },
    {
      "cell_type": "code",
      "metadata": {
        "id": "wCmsxsc4o6pd"
      },
      "source": [
        "models_to_eval = [\n",
        "    RandomForestRegressor, ExtraTreesRegressor, BaggingRegressor,\n",
        "    GradientBoostingRegressor, AdaBoostRegressor, HuberRegressor\n",
        "]"
      ],
      "execution_count": null,
      "outputs": []
    },
    {
      "cell_type": "code",
      "metadata": {
        "id": "1FcCI0D9CnkI"
      },
      "source": [
        "model_results = pd.DataFrame(columns=['model', 'test_mse', 'test_r2'])"
      ],
      "execution_count": null,
      "outputs": []
    },
    {
      "cell_type": "markdown",
      "metadata": {
        "id": "jXbF2ZAUICOy"
      },
      "source": [
        "Make sure that the index of your pandas dataframe is indexed by enumeration, and write new row to the pandas dataframe using df.loc[]. For instance:\n",
        "\n",
        "\n",
        "```\n",
        "for i, model in enumerate(models):\n",
        "      <INSERT LOGIC HERE TO BUILD MODELS>\n",
        "      model_results.loc[i] = [model, test_mse, test_rsquared]\n",
        "```\n",
        "\n",
        "\n"
      ]
    },
    {
      "cell_type": "code",
      "metadata": {
        "id": "wQKrbG8hqwH2"
      },
      "source": [
        "def ensemble_model_fit_and_eval(X_train, X_test, y_train, y_test, models, results):\n",
        "    \"\"\"Write evaluation data from the given models to the results frame.\n",
        "\n",
        "    X_train, X_text, y_train, y_test are the prediction and target training\n",
        "    and testing data provided as frames.\n",
        "\n",
        "    models are the model classes to be instantiated and evaluated.\n",
        "\n",
        "    results is a DataFrame containing columns: model, test_mse, test_r2. The\n",
        "    results frame should be filled with the evaluation data and returned by\n",
        "    this function.\n",
        "    \"\"\" \n",
        "    for i, model_class in enumerate(models):\n",
        "        # instantiate model and fit to training data\n",
        "        model = model_class()\n",
        "        model.fit(X_train, y_train)\n",
        "        \n",
        "        # predict on test data and calculate mse and r2\n",
        "        y_pred = model.predict(X_test)\n",
        "        mse = mean_squared_error(y_test, y_pred)\n",
        "        r2 = r2_score(y_test, y_pred)\n",
        "        \n",
        "        # add results to dataframe\n",
        "        results.loc[i] = [model_class, mse, r2]\n",
        "        \n",
        "    return results"
      ],
      "execution_count": null,
      "outputs": []
    },
    {
      "cell_type": "code",
      "metadata": {
        "id": "OvPnmDCKGx8t",
        "colab": {
          "base_uri": "https://localhost:8080/",
          "height": 237
        },
        "outputId": "80dc84b6-5262-462e-ee7e-f891f8c5dc9d"
      },
      "source": [
        "#~~ grader-ignore:\n",
        "model_results = ensemble_model_fit_and_eval(X_train, X_test, y_train, y_test, models_to_eval, model_results)\n",
        "model_results\n",
        "#~~ /grader-ignore"
      ],
      "execution_count": null,
      "outputs": [
        {
          "output_type": "execute_result",
          "data": {
            "text/plain": [
              "                                               model      test_mse   test_r2\n",
              "0  <class 'sklearn.ensemble._forest.RandomForestR...  1.886033e+06  0.846296\n",
              "1  <class 'sklearn.ensemble._forest.ExtraTreesReg...  1.403284e+06  0.885638\n",
              "2  <class 'sklearn.ensemble._bagging.BaggingRegre...  1.725861e+06  0.859349\n",
              "3  <class 'sklearn.ensemble._gb.GradientBoostingR...  1.653678e+06  0.865232\n",
              "4  <class 'sklearn.ensemble._weight_boosting.AdaB...  4.976682e+06  0.594421\n",
              "5  <class 'sklearn.linear_model._huber.HuberRegre...  5.025044e+06  0.590479"
            ],
            "text/html": [
              "\n",
              "  <div id=\"df-4383e57d-301a-4ab2-9aae-0d1679a696a7\">\n",
              "    <div class=\"colab-df-container\">\n",
              "      <div>\n",
              "<style scoped>\n",
              "    .dataframe tbody tr th:only-of-type {\n",
              "        vertical-align: middle;\n",
              "    }\n",
              "\n",
              "    .dataframe tbody tr th {\n",
              "        vertical-align: top;\n",
              "    }\n",
              "\n",
              "    .dataframe thead th {\n",
              "        text-align: right;\n",
              "    }\n",
              "</style>\n",
              "<table border=\"1\" class=\"dataframe\">\n",
              "  <thead>\n",
              "    <tr style=\"text-align: right;\">\n",
              "      <th></th>\n",
              "      <th>model</th>\n",
              "      <th>test_mse</th>\n",
              "      <th>test_r2</th>\n",
              "    </tr>\n",
              "  </thead>\n",
              "  <tbody>\n",
              "    <tr>\n",
              "      <th>0</th>\n",
              "      <td>&lt;class 'sklearn.ensemble._forest.RandomForestR...</td>\n",
              "      <td>1.886033e+06</td>\n",
              "      <td>0.846296</td>\n",
              "    </tr>\n",
              "    <tr>\n",
              "      <th>1</th>\n",
              "      <td>&lt;class 'sklearn.ensemble._forest.ExtraTreesReg...</td>\n",
              "      <td>1.403284e+06</td>\n",
              "      <td>0.885638</td>\n",
              "    </tr>\n",
              "    <tr>\n",
              "      <th>2</th>\n",
              "      <td>&lt;class 'sklearn.ensemble._bagging.BaggingRegre...</td>\n",
              "      <td>1.725861e+06</td>\n",
              "      <td>0.859349</td>\n",
              "    </tr>\n",
              "    <tr>\n",
              "      <th>3</th>\n",
              "      <td>&lt;class 'sklearn.ensemble._gb.GradientBoostingR...</td>\n",
              "      <td>1.653678e+06</td>\n",
              "      <td>0.865232</td>\n",
              "    </tr>\n",
              "    <tr>\n",
              "      <th>4</th>\n",
              "      <td>&lt;class 'sklearn.ensemble._weight_boosting.AdaB...</td>\n",
              "      <td>4.976682e+06</td>\n",
              "      <td>0.594421</td>\n",
              "    </tr>\n",
              "    <tr>\n",
              "      <th>5</th>\n",
              "      <td>&lt;class 'sklearn.linear_model._huber.HuberRegre...</td>\n",
              "      <td>5.025044e+06</td>\n",
              "      <td>0.590479</td>\n",
              "    </tr>\n",
              "  </tbody>\n",
              "</table>\n",
              "</div>\n",
              "      <button class=\"colab-df-convert\" onclick=\"convertToInteractive('df-4383e57d-301a-4ab2-9aae-0d1679a696a7')\"\n",
              "              title=\"Convert this dataframe to an interactive table.\"\n",
              "              style=\"display:none;\">\n",
              "        \n",
              "  <svg xmlns=\"http://www.w3.org/2000/svg\" height=\"24px\"viewBox=\"0 0 24 24\"\n",
              "       width=\"24px\">\n",
              "    <path d=\"M0 0h24v24H0V0z\" fill=\"none\"/>\n",
              "    <path d=\"M18.56 5.44l.94 2.06.94-2.06 2.06-.94-2.06-.94-.94-2.06-.94 2.06-2.06.94zm-11 1L8.5 8.5l.94-2.06 2.06-.94-2.06-.94L8.5 2.5l-.94 2.06-2.06.94zm10 10l.94 2.06.94-2.06 2.06-.94-2.06-.94-.94-2.06-.94 2.06-2.06.94z\"/><path d=\"M17.41 7.96l-1.37-1.37c-.4-.4-.92-.59-1.43-.59-.52 0-1.04.2-1.43.59L10.3 9.45l-7.72 7.72c-.78.78-.78 2.05 0 2.83L4 21.41c.39.39.9.59 1.41.59.51 0 1.02-.2 1.41-.59l7.78-7.78 2.81-2.81c.8-.78.8-2.07 0-2.86zM5.41 20L4 18.59l7.72-7.72 1.47 1.35L5.41 20z\"/>\n",
              "  </svg>\n",
              "      </button>\n",
              "      \n",
              "  <style>\n",
              "    .colab-df-container {\n",
              "      display:flex;\n",
              "      flex-wrap:wrap;\n",
              "      gap: 12px;\n",
              "    }\n",
              "\n",
              "    .colab-df-convert {\n",
              "      background-color: #E8F0FE;\n",
              "      border: none;\n",
              "      border-radius: 50%;\n",
              "      cursor: pointer;\n",
              "      display: none;\n",
              "      fill: #1967D2;\n",
              "      height: 32px;\n",
              "      padding: 0 0 0 0;\n",
              "      width: 32px;\n",
              "    }\n",
              "\n",
              "    .colab-df-convert:hover {\n",
              "      background-color: #E2EBFA;\n",
              "      box-shadow: 0px 1px 2px rgba(60, 64, 67, 0.3), 0px 1px 3px 1px rgba(60, 64, 67, 0.15);\n",
              "      fill: #174EA6;\n",
              "    }\n",
              "\n",
              "    [theme=dark] .colab-df-convert {\n",
              "      background-color: #3B4455;\n",
              "      fill: #D2E3FC;\n",
              "    }\n",
              "\n",
              "    [theme=dark] .colab-df-convert:hover {\n",
              "      background-color: #434B5C;\n",
              "      box-shadow: 0px 1px 3px 1px rgba(0, 0, 0, 0.15);\n",
              "      filter: drop-shadow(0px 1px 2px rgba(0, 0, 0, 0.3));\n",
              "      fill: #FFFFFF;\n",
              "    }\n",
              "  </style>\n",
              "\n",
              "      <script>\n",
              "        const buttonEl =\n",
              "          document.querySelector('#df-4383e57d-301a-4ab2-9aae-0d1679a696a7 button.colab-df-convert');\n",
              "        buttonEl.style.display =\n",
              "          google.colab.kernel.accessAllowed ? 'block' : 'none';\n",
              "\n",
              "        async function convertToInteractive(key) {\n",
              "          const element = document.querySelector('#df-4383e57d-301a-4ab2-9aae-0d1679a696a7');\n",
              "          const dataTable =\n",
              "            await google.colab.kernel.invokeFunction('convertToInteractive',\n",
              "                                                     [key], {});\n",
              "          if (!dataTable) return;\n",
              "\n",
              "          const docLinkHtml = 'Like what you see? Visit the ' +\n",
              "            '<a target=\"_blank\" href=https://colab.research.google.com/notebooks/data_table.ipynb>data table notebook</a>'\n",
              "            + ' to learn more about interactive tables.';\n",
              "          element.innerHTML = '';\n",
              "          dataTable['output_type'] = 'display_data';\n",
              "          await google.colab.output.renderOutput(dataTable, element);\n",
              "          const docLink = document.createElement('div');\n",
              "          docLink.innerHTML = docLinkHtml;\n",
              "          element.appendChild(docLink);\n",
              "        }\n",
              "      </script>\n",
              "    </div>\n",
              "  </div>\n",
              "  "
            ]
          },
          "metadata": {},
          "execution_count": 165
        }
      ]
    },
    {
      "cell_type": "markdown",
      "metadata": {
        "id": "hQ_Hv4oSBe2J"
      },
      "source": [
        "## Top_results\n",
        "\n",
        "Sort the model results and return a dataframe with the top `n` r2 values.\n",
        "\n",
        "This function will be used to get a DataFrame with one row that contains the model with the top r2.\n",
        "\n"
      ]
    },
    {
      "cell_type": "code",
      "metadata": {
        "id": "CrWLvbLWJc8d"
      },
      "source": [
        "def top_results(df, column, n):\n",
        "    \"\"\"Return a DataFrame of the top n rows in df by the specified column.\"\"\"\n",
        "    top = df.nlargest(n, column)\n",
        "    return top"
      ],
      "execution_count": null,
      "outputs": []
    },
    {
      "cell_type": "code",
      "metadata": {
        "id": "y7Dd_qFPJ8lo",
        "colab": {
          "base_uri": "https://localhost:8080/",
          "height": 80
        },
        "outputId": "251e734f-08c9-4d2c-b71d-f321c0fdd7ef"
      },
      "source": [
        "#~~ grader-ignore:\n",
        "top_results(model_results, 'test_r2', 1)\n",
        "#~~ /grader-ignore"
      ],
      "execution_count": null,
      "outputs": [
        {
          "output_type": "execute_result",
          "data": {
            "text/plain": [
              "                 model      test_mse   test_r2\n",
              "1  ExtraTreesRegressor  1.294446e+06  0.894508"
            ],
            "text/html": [
              "\n",
              "  <div id=\"df-a73682ca-ae47-41ed-be80-ac4109a5721b\">\n",
              "    <div class=\"colab-df-container\">\n",
              "      <div>\n",
              "<style scoped>\n",
              "    .dataframe tbody tr th:only-of-type {\n",
              "        vertical-align: middle;\n",
              "    }\n",
              "\n",
              "    .dataframe tbody tr th {\n",
              "        vertical-align: top;\n",
              "    }\n",
              "\n",
              "    .dataframe thead th {\n",
              "        text-align: right;\n",
              "    }\n",
              "</style>\n",
              "<table border=\"1\" class=\"dataframe\">\n",
              "  <thead>\n",
              "    <tr style=\"text-align: right;\">\n",
              "      <th></th>\n",
              "      <th>model</th>\n",
              "      <th>test_mse</th>\n",
              "      <th>test_r2</th>\n",
              "    </tr>\n",
              "  </thead>\n",
              "  <tbody>\n",
              "    <tr>\n",
              "      <th>1</th>\n",
              "      <td>ExtraTreesRegressor</td>\n",
              "      <td>1.294446e+06</td>\n",
              "      <td>0.894508</td>\n",
              "    </tr>\n",
              "  </tbody>\n",
              "</table>\n",
              "</div>\n",
              "      <button class=\"colab-df-convert\" onclick=\"convertToInteractive('df-a73682ca-ae47-41ed-be80-ac4109a5721b')\"\n",
              "              title=\"Convert this dataframe to an interactive table.\"\n",
              "              style=\"display:none;\">\n",
              "        \n",
              "  <svg xmlns=\"http://www.w3.org/2000/svg\" height=\"24px\"viewBox=\"0 0 24 24\"\n",
              "       width=\"24px\">\n",
              "    <path d=\"M0 0h24v24H0V0z\" fill=\"none\"/>\n",
              "    <path d=\"M18.56 5.44l.94 2.06.94-2.06 2.06-.94-2.06-.94-.94-2.06-.94 2.06-2.06.94zm-11 1L8.5 8.5l.94-2.06 2.06-.94-2.06-.94L8.5 2.5l-.94 2.06-2.06.94zm10 10l.94 2.06.94-2.06 2.06-.94-2.06-.94-.94-2.06-.94 2.06-2.06.94z\"/><path d=\"M17.41 7.96l-1.37-1.37c-.4-.4-.92-.59-1.43-.59-.52 0-1.04.2-1.43.59L10.3 9.45l-7.72 7.72c-.78.78-.78 2.05 0 2.83L4 21.41c.39.39.9.59 1.41.59.51 0 1.02-.2 1.41-.59l7.78-7.78 2.81-2.81c.8-.78.8-2.07 0-2.86zM5.41 20L4 18.59l7.72-7.72 1.47 1.35L5.41 20z\"/>\n",
              "  </svg>\n",
              "      </button>\n",
              "      \n",
              "  <style>\n",
              "    .colab-df-container {\n",
              "      display:flex;\n",
              "      flex-wrap:wrap;\n",
              "      gap: 12px;\n",
              "    }\n",
              "\n",
              "    .colab-df-convert {\n",
              "      background-color: #E8F0FE;\n",
              "      border: none;\n",
              "      border-radius: 50%;\n",
              "      cursor: pointer;\n",
              "      display: none;\n",
              "      fill: #1967D2;\n",
              "      height: 32px;\n",
              "      padding: 0 0 0 0;\n",
              "      width: 32px;\n",
              "    }\n",
              "\n",
              "    .colab-df-convert:hover {\n",
              "      background-color: #E2EBFA;\n",
              "      box-shadow: 0px 1px 2px rgba(60, 64, 67, 0.3), 0px 1px 3px 1px rgba(60, 64, 67, 0.15);\n",
              "      fill: #174EA6;\n",
              "    }\n",
              "\n",
              "    [theme=dark] .colab-df-convert {\n",
              "      background-color: #3B4455;\n",
              "      fill: #D2E3FC;\n",
              "    }\n",
              "\n",
              "    [theme=dark] .colab-df-convert:hover {\n",
              "      background-color: #434B5C;\n",
              "      box-shadow: 0px 1px 3px 1px rgba(0, 0, 0, 0.15);\n",
              "      filter: drop-shadow(0px 1px 2px rgba(0, 0, 0, 0.3));\n",
              "      fill: #FFFFFF;\n",
              "    }\n",
              "  </style>\n",
              "\n",
              "      <script>\n",
              "        const buttonEl =\n",
              "          document.querySelector('#df-a73682ca-ae47-41ed-be80-ac4109a5721b button.colab-df-convert');\n",
              "        buttonEl.style.display =\n",
              "          google.colab.kernel.accessAllowed ? 'block' : 'none';\n",
              "\n",
              "        async function convertToInteractive(key) {\n",
              "          const element = document.querySelector('#df-a73682ca-ae47-41ed-be80-ac4109a5721b');\n",
              "          const dataTable =\n",
              "            await google.colab.kernel.invokeFunction('convertToInteractive',\n",
              "                                                     [key], {});\n",
              "          if (!dataTable) return;\n",
              "\n",
              "          const docLinkHtml = 'Like what you see? Visit the ' +\n",
              "            '<a target=\"_blank\" href=https://colab.research.google.com/notebooks/data_table.ipynb>data table notebook</a>'\n",
              "            + ' to learn more about interactive tables.';\n",
              "          element.innerHTML = '';\n",
              "          dataTable['output_type'] = 'display_data';\n",
              "          await google.colab.output.renderOutput(dataTable, element);\n",
              "          const docLink = document.createElement('div');\n",
              "          docLink.innerHTML = docLinkHtml;\n",
              "          element.appendChild(docLink);\n",
              "        }\n",
              "      </script>\n",
              "    </div>\n",
              "  </div>\n",
              "  "
            ]
          },
          "metadata": {},
          "execution_count": 155
        }
      ]
    },
    {
      "cell_type": "markdown",
      "metadata": {
        "id": "RlH9Xen0MHjT"
      },
      "source": [
        "## Filter_by_column_threshold\n",
        "\n",
        "Create a function to filter a dataframe by column values meeting a minimum\n",
        "threshold criterion.\n",
        "\n",
        "This function will be used to filter model_results so that only models that performed better than the LASSO rsquared are returned.\n",
        "\n"
      ]
    },
    {
      "cell_type": "code",
      "metadata": {
        "id": "gXdrpCoIMDpQ"
      },
      "source": [
        "def filter_by_column_threshold(df, column, threshold):\n",
        "    \"\"\"Return a subframe that is the rows of df for which the value of column\n",
        "    is greater than threshold.\n",
        "    \"\"\"\n",
        "    return df[df[column] > threshold]"
      ],
      "execution_count": null,
      "outputs": []
    },
    {
      "cell_type": "code",
      "metadata": {
        "id": "FZdJzqDcOD-d",
        "colab": {
          "base_uri": "https://localhost:8080/",
          "height": 143
        },
        "outputId": "f9e3a382-b7b5-4893-d5e1-e444fa3493da"
      },
      "source": [
        "#~~ grader-ignore:\n",
        "filter_by_column_threshold(model_results, 'test_r2', test_r2)\n",
        "#~~ /grader-ignore"
      ],
      "execution_count": null,
      "outputs": [
        {
          "output_type": "execute_result",
          "data": {
            "text/plain": [
              "                       model      test_mse   test_r2\n",
              "0      RandomForestRegressor  1.723246e+06  0.859562\n",
              "1        ExtraTreesRegressor  1.294446e+06  0.894508\n",
              "3  GradientBoostingRegressor  1.707586e+06  0.860839"
            ],
            "text/html": [
              "\n",
              "  <div id=\"df-325362f0-6a15-4298-bc47-ecc7d000a7e4\">\n",
              "    <div class=\"colab-df-container\">\n",
              "      <div>\n",
              "<style scoped>\n",
              "    .dataframe tbody tr th:only-of-type {\n",
              "        vertical-align: middle;\n",
              "    }\n",
              "\n",
              "    .dataframe tbody tr th {\n",
              "        vertical-align: top;\n",
              "    }\n",
              "\n",
              "    .dataframe thead th {\n",
              "        text-align: right;\n",
              "    }\n",
              "</style>\n",
              "<table border=\"1\" class=\"dataframe\">\n",
              "  <thead>\n",
              "    <tr style=\"text-align: right;\">\n",
              "      <th></th>\n",
              "      <th>model</th>\n",
              "      <th>test_mse</th>\n",
              "      <th>test_r2</th>\n",
              "    </tr>\n",
              "  </thead>\n",
              "  <tbody>\n",
              "    <tr>\n",
              "      <th>0</th>\n",
              "      <td>RandomForestRegressor</td>\n",
              "      <td>1.723246e+06</td>\n",
              "      <td>0.859562</td>\n",
              "    </tr>\n",
              "    <tr>\n",
              "      <th>1</th>\n",
              "      <td>ExtraTreesRegressor</td>\n",
              "      <td>1.294446e+06</td>\n",
              "      <td>0.894508</td>\n",
              "    </tr>\n",
              "    <tr>\n",
              "      <th>3</th>\n",
              "      <td>GradientBoostingRegressor</td>\n",
              "      <td>1.707586e+06</td>\n",
              "      <td>0.860839</td>\n",
              "    </tr>\n",
              "  </tbody>\n",
              "</table>\n",
              "</div>\n",
              "      <button class=\"colab-df-convert\" onclick=\"convertToInteractive('df-325362f0-6a15-4298-bc47-ecc7d000a7e4')\"\n",
              "              title=\"Convert this dataframe to an interactive table.\"\n",
              "              style=\"display:none;\">\n",
              "        \n",
              "  <svg xmlns=\"http://www.w3.org/2000/svg\" height=\"24px\"viewBox=\"0 0 24 24\"\n",
              "       width=\"24px\">\n",
              "    <path d=\"M0 0h24v24H0V0z\" fill=\"none\"/>\n",
              "    <path d=\"M18.56 5.44l.94 2.06.94-2.06 2.06-.94-2.06-.94-.94-2.06-.94 2.06-2.06.94zm-11 1L8.5 8.5l.94-2.06 2.06-.94-2.06-.94L8.5 2.5l-.94 2.06-2.06.94zm10 10l.94 2.06.94-2.06 2.06-.94-2.06-.94-.94-2.06-.94 2.06-2.06.94z\"/><path d=\"M17.41 7.96l-1.37-1.37c-.4-.4-.92-.59-1.43-.59-.52 0-1.04.2-1.43.59L10.3 9.45l-7.72 7.72c-.78.78-.78 2.05 0 2.83L4 21.41c.39.39.9.59 1.41.59.51 0 1.02-.2 1.41-.59l7.78-7.78 2.81-2.81c.8-.78.8-2.07 0-2.86zM5.41 20L4 18.59l7.72-7.72 1.47 1.35L5.41 20z\"/>\n",
              "  </svg>\n",
              "      </button>\n",
              "      \n",
              "  <style>\n",
              "    .colab-df-container {\n",
              "      display:flex;\n",
              "      flex-wrap:wrap;\n",
              "      gap: 12px;\n",
              "    }\n",
              "\n",
              "    .colab-df-convert {\n",
              "      background-color: #E8F0FE;\n",
              "      border: none;\n",
              "      border-radius: 50%;\n",
              "      cursor: pointer;\n",
              "      display: none;\n",
              "      fill: #1967D2;\n",
              "      height: 32px;\n",
              "      padding: 0 0 0 0;\n",
              "      width: 32px;\n",
              "    }\n",
              "\n",
              "    .colab-df-convert:hover {\n",
              "      background-color: #E2EBFA;\n",
              "      box-shadow: 0px 1px 2px rgba(60, 64, 67, 0.3), 0px 1px 3px 1px rgba(60, 64, 67, 0.15);\n",
              "      fill: #174EA6;\n",
              "    }\n",
              "\n",
              "    [theme=dark] .colab-df-convert {\n",
              "      background-color: #3B4455;\n",
              "      fill: #D2E3FC;\n",
              "    }\n",
              "\n",
              "    [theme=dark] .colab-df-convert:hover {\n",
              "      background-color: #434B5C;\n",
              "      box-shadow: 0px 1px 3px 1px rgba(0, 0, 0, 0.15);\n",
              "      filter: drop-shadow(0px 1px 2px rgba(0, 0, 0, 0.3));\n",
              "      fill: #FFFFFF;\n",
              "    }\n",
              "  </style>\n",
              "\n",
              "      <script>\n",
              "        const buttonEl =\n",
              "          document.querySelector('#df-325362f0-6a15-4298-bc47-ecc7d000a7e4 button.colab-df-convert');\n",
              "        buttonEl.style.display =\n",
              "          google.colab.kernel.accessAllowed ? 'block' : 'none';\n",
              "\n",
              "        async function convertToInteractive(key) {\n",
              "          const element = document.querySelector('#df-325362f0-6a15-4298-bc47-ecc7d000a7e4');\n",
              "          const dataTable =\n",
              "            await google.colab.kernel.invokeFunction('convertToInteractive',\n",
              "                                                     [key], {});\n",
              "          if (!dataTable) return;\n",
              "\n",
              "          const docLinkHtml = 'Like what you see? Visit the ' +\n",
              "            '<a target=\"_blank\" href=https://colab.research.google.com/notebooks/data_table.ipynb>data table notebook</a>'\n",
              "            + ' to learn more about interactive tables.';\n",
              "          element.innerHTML = '';\n",
              "          dataTable['output_type'] = 'display_data';\n",
              "          await google.colab.output.renderOutput(dataTable, element);\n",
              "          const docLink = document.createElement('div');\n",
              "          docLink.innerHTML = docLinkHtml;\n",
              "          element.appendChild(docLink);\n",
              "        }\n",
              "      </script>\n",
              "    </div>\n",
              "  </div>\n",
              "  "
            ]
          },
          "metadata": {},
          "execution_count": 157
        }
      ]
    },
    {
      "cell_type": "code",
      "metadata": {
        "id": "3OQTRHPbzMBT",
        "colab": {
          "base_uri": "https://localhost:8080/",
          "height": 112
        },
        "outputId": "acda01f2-577c-49e6-fa03-cace72c5f385"
      },
      "source": [
        "#~~ grader-ignore:\n",
        "filter_by_column_threshold(model_results, 'test_mse', 2000000)\n",
        "#~~ /grader-ignore"
      ],
      "execution_count": null,
      "outputs": [
        {
          "output_type": "execute_result",
          "data": {
            "text/plain": [
              "               model      test_mse   test_r2\n",
              "4  AdaBoostRegressor  3.919397e+06  0.680585\n",
              "5     HuberRegressor  5.025044e+06  0.590479"
            ],
            "text/html": [
              "\n",
              "  <div id=\"df-d84894b2-619e-44c4-9931-1134729fa885\">\n",
              "    <div class=\"colab-df-container\">\n",
              "      <div>\n",
              "<style scoped>\n",
              "    .dataframe tbody tr th:only-of-type {\n",
              "        vertical-align: middle;\n",
              "    }\n",
              "\n",
              "    .dataframe tbody tr th {\n",
              "        vertical-align: top;\n",
              "    }\n",
              "\n",
              "    .dataframe thead th {\n",
              "        text-align: right;\n",
              "    }\n",
              "</style>\n",
              "<table border=\"1\" class=\"dataframe\">\n",
              "  <thead>\n",
              "    <tr style=\"text-align: right;\">\n",
              "      <th></th>\n",
              "      <th>model</th>\n",
              "      <th>test_mse</th>\n",
              "      <th>test_r2</th>\n",
              "    </tr>\n",
              "  </thead>\n",
              "  <tbody>\n",
              "    <tr>\n",
              "      <th>4</th>\n",
              "      <td>AdaBoostRegressor</td>\n",
              "      <td>3.919397e+06</td>\n",
              "      <td>0.680585</td>\n",
              "    </tr>\n",
              "    <tr>\n",
              "      <th>5</th>\n",
              "      <td>HuberRegressor</td>\n",
              "      <td>5.025044e+06</td>\n",
              "      <td>0.590479</td>\n",
              "    </tr>\n",
              "  </tbody>\n",
              "</table>\n",
              "</div>\n",
              "      <button class=\"colab-df-convert\" onclick=\"convertToInteractive('df-d84894b2-619e-44c4-9931-1134729fa885')\"\n",
              "              title=\"Convert this dataframe to an interactive table.\"\n",
              "              style=\"display:none;\">\n",
              "        \n",
              "  <svg xmlns=\"http://www.w3.org/2000/svg\" height=\"24px\"viewBox=\"0 0 24 24\"\n",
              "       width=\"24px\">\n",
              "    <path d=\"M0 0h24v24H0V0z\" fill=\"none\"/>\n",
              "    <path d=\"M18.56 5.44l.94 2.06.94-2.06 2.06-.94-2.06-.94-.94-2.06-.94 2.06-2.06.94zm-11 1L8.5 8.5l.94-2.06 2.06-.94-2.06-.94L8.5 2.5l-.94 2.06-2.06.94zm10 10l.94 2.06.94-2.06 2.06-.94-2.06-.94-.94-2.06-.94 2.06-2.06.94z\"/><path d=\"M17.41 7.96l-1.37-1.37c-.4-.4-.92-.59-1.43-.59-.52 0-1.04.2-1.43.59L10.3 9.45l-7.72 7.72c-.78.78-.78 2.05 0 2.83L4 21.41c.39.39.9.59 1.41.59.51 0 1.02-.2 1.41-.59l7.78-7.78 2.81-2.81c.8-.78.8-2.07 0-2.86zM5.41 20L4 18.59l7.72-7.72 1.47 1.35L5.41 20z\"/>\n",
              "  </svg>\n",
              "      </button>\n",
              "      \n",
              "  <style>\n",
              "    .colab-df-container {\n",
              "      display:flex;\n",
              "      flex-wrap:wrap;\n",
              "      gap: 12px;\n",
              "    }\n",
              "\n",
              "    .colab-df-convert {\n",
              "      background-color: #E8F0FE;\n",
              "      border: none;\n",
              "      border-radius: 50%;\n",
              "      cursor: pointer;\n",
              "      display: none;\n",
              "      fill: #1967D2;\n",
              "      height: 32px;\n",
              "      padding: 0 0 0 0;\n",
              "      width: 32px;\n",
              "    }\n",
              "\n",
              "    .colab-df-convert:hover {\n",
              "      background-color: #E2EBFA;\n",
              "      box-shadow: 0px 1px 2px rgba(60, 64, 67, 0.3), 0px 1px 3px 1px rgba(60, 64, 67, 0.15);\n",
              "      fill: #174EA6;\n",
              "    }\n",
              "\n",
              "    [theme=dark] .colab-df-convert {\n",
              "      background-color: #3B4455;\n",
              "      fill: #D2E3FC;\n",
              "    }\n",
              "\n",
              "    [theme=dark] .colab-df-convert:hover {\n",
              "      background-color: #434B5C;\n",
              "      box-shadow: 0px 1px 3px 1px rgba(0, 0, 0, 0.15);\n",
              "      filter: drop-shadow(0px 1px 2px rgba(0, 0, 0, 0.3));\n",
              "      fill: #FFFFFF;\n",
              "    }\n",
              "  </style>\n",
              "\n",
              "      <script>\n",
              "        const buttonEl =\n",
              "          document.querySelector('#df-d84894b2-619e-44c4-9931-1134729fa885 button.colab-df-convert');\n",
              "        buttonEl.style.display =\n",
              "          google.colab.kernel.accessAllowed ? 'block' : 'none';\n",
              "\n",
              "        async function convertToInteractive(key) {\n",
              "          const element = document.querySelector('#df-d84894b2-619e-44c4-9931-1134729fa885');\n",
              "          const dataTable =\n",
              "            await google.colab.kernel.invokeFunction('convertToInteractive',\n",
              "                                                     [key], {});\n",
              "          if (!dataTable) return;\n",
              "\n",
              "          const docLinkHtml = 'Like what you see? Visit the ' +\n",
              "            '<a target=\"_blank\" href=https://colab.research.google.com/notebooks/data_table.ipynb>data table notebook</a>'\n",
              "            + ' to learn more about interactive tables.';\n",
              "          element.innerHTML = '';\n",
              "          dataTable['output_type'] = 'display_data';\n",
              "          await google.colab.output.renderOutput(dataTable, element);\n",
              "          const docLink = document.createElement('div');\n",
              "          docLink.innerHTML = docLinkHtml;\n",
              "          element.appendChild(docLink);\n",
              "        }\n",
              "      </script>\n",
              "    </div>\n",
              "  </div>\n",
              "  "
            ]
          },
          "metadata": {},
          "execution_count": 158
        }
      ]
    },
    {
      "cell_type": "code",
      "metadata": {
        "id": "fj2Nzo1t1yoZ",
        "colab": {
          "base_uri": "https://localhost:8080/"
        },
        "outputId": "c615cd55-e65a-415f-d13a-6842a7302aee"
      },
      "source": [
        "#~~ grader-ignore:\n",
        "filter_by_column_threshold(model_results, 'test_r2', test_r2).model.to_list()\n",
        "#~~ /grader-ignore"
      ],
      "execution_count": null,
      "outputs": [
        {
          "output_type": "execute_result",
          "data": {
            "text/plain": [
              "['RandomForestRegressor', 'ExtraTreesRegressor', 'GradientBoostingRegressor']"
            ]
          },
          "metadata": {},
          "execution_count": 159
        }
      ]
    }
  ]
}